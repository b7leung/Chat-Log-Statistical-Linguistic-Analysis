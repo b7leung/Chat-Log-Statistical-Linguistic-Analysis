{
 "cells": [
  {
   "cell_type": "code",
   "execution_count": 1,
   "metadata": {
    "ExecuteTime": {
     "end_time": "2021-06-01T02:37:46.592081Z",
     "start_time": "2021-06-01T02:37:46.578076Z"
    }
   },
   "outputs": [],
   "source": [
    "%load_ext autoreload\n",
    "%autoreload 2"
   ]
  },
  {
   "cell_type": "code",
   "execution_count": 12,
   "metadata": {
    "ExecuteTime": {
     "end_time": "2021-06-01T02:37:49.277443Z",
     "start_time": "2021-06-01T02:37:46.593641Z"
    }
   },
   "outputs": [],
   "source": [
    "import os\n",
    "import shutil\n",
    "import zipfile\n",
    "import pprint\n",
    "from pathlib import Path\n",
    "import pickle\n",
    "import sys\n",
    "from functools import partialmethod\n",
    "import time\n",
    "\n",
    "import tqdm\n",
    "tqdm.__init__ = partialmethod(tqdm.__init__, disable=True) # silence tqdm\n",
    "from ipywidgets import interact, interactive, fixed, interact_manual,Button, HBox, VBox\n",
    "from ipywidgets import Checkbox, VBox, HBox, Text, Dropdown, Image, IntSlider\n",
    "from IPython.display import Image\n",
    "import ipywidgets as widgets\n",
    "import matplotlib.pyplot as plt\n",
    "import pandas as pd\n",
    "\n",
    "from nlp_suite import data_preprocessing\n",
    "from basic_info_widget import BasicInfoWidget \n",
    "from stylized_chatbot_widget import StylizedChatbotWidget\n",
    "from cluster_widget import ClusterWidget\n",
    "from senti_analysis_widget import SentiAnalysisWidget\n",
    "from nlp_suite.clustering.utils import plot_3d_clusters\n",
    "from nlp_suite.clustering.utils import plot_3d_clusters, classify_text\n",
    "from nlp_suite.text_analysis.text_analysis_kevin import *"
   ]
  },
  {
   "cell_type": "code",
   "execution_count": 23,
   "metadata": {
    "ExecuteTime": {
     "end_time": "2021-06-01T02:39:06.466851Z",
     "start_time": "2021-06-01T02:39:06.361475Z"
    },
    "code_folding": []
   },
   "outputs": [],
   "source": [
    "class App:\n",
    "    \n",
    "    def __init__(self):\n",
    "        # Add Logo\n",
    "        logo_file = open(\"./Graphics/main_logo.png\", \"rb\")\n",
    "        logo_widget = widgets.Image(value=logo_file.read(),format='png',width=150,height=150)\n",
    "        # Add Title\n",
    "        title_widget = widgets.HTML('<p style=\"font-size:50px\">&nbsp;&nbsp;<b>Chat Log Analysis Suite</b></p>')\n",
    "        # Instruction text UI\n",
    "        instruction_text_widget = widgets.HTML('<p style=\"font-size:18px\"><b>To begin, upload a zipped folder containing chat log file(s), and specify a user. </br>Then, click the green button to start the data analysis.</b></p>')\n",
    "        blank_line_widget = widgets.HTML('<br>')\n",
    "        \n",
    "        # Upload input chat log UI\n",
    "        self.uploader_widget = widgets.FileUpload(description=\"Upload Chat\", accept='.zip', multiple=False)\n",
    "        self.user_name_widget = widgets.Text(description='User Name:', disabled=False)\n",
    "        user_input_widgets = HBox([self.uploader_widget, self.user_name_widget])\n",
    "        \n",
    "        # submit chat log UI\n",
    "        process_data_button_widget = widgets.Button(description='Process Chat Data', disabled=False, button_style='success')\n",
    "        process_data_button_widget.on_click(self.begin_analysis)\n",
    "        self.status_text_widget = widgets.HTML('')\n",
    "        submit_info_widgets = HBox([process_data_button_widget, self.status_text_widget])\n",
    "        \n",
    "        # SHOW TEXT ANALYSIS FOR CLUSTERS\n",
    "        pkl_data = pickle.load(open('./nlp_suite/clustering/cluster_data.pkl', 'rb'))\n",
    "        labels, pca = pkl_data['labels'], pkl_data['pca']\n",
    "        self.fig = plot_3d_clusters(pca, labels, max_points=50000)\n",
    "        self.cluster_dd = Dropdown(\n",
    "                options=[(f'Cluster {i}', i) for i in range(max(labels)+1)],\n",
    "                value=0,\n",
    "                description='Cluster:',\n",
    "            )\n",
    "        def on_click(trace, points, state):\n",
    "            self.cluster_dd.value = int(trace.marker.color[points.point_inds[0]])\n",
    "        self.fig.data[0].on_click(on_click)\n",
    "\n",
    "        # analysis tabs UI\n",
    "        self.basic_info_widget = BasicInfoWidget()\n",
    "        self.stylized_chatbot_widget = StylizedChatbotWidget()\n",
    "        self.cluster_widget = ClusterWidget()\n",
    "        self.sentiment_analysis_widget = SentiAnalysisWidget()\n",
    "        analysis_tabs_child_widgets = [self.basic_info_widget.get_widget(),\n",
    "                                       self.cluster_widget.get_widget(),\n",
    "                                       self.sentiment_analysis_widget.get_widget(),\n",
    "                                       self.stylized_chatbot_widget.get_widget()]\n",
    "        analysis_tabs_children_names = [\"Basic User Info\", \"Patterns & Clusters\", \"Sentiment\", \"Chatbot\"]\n",
    "        self.analysis_tabs_widget = widgets.Tab(children = analysis_tabs_child_widgets)\n",
    "        for i in range(len(analysis_tabs_child_widgets)):\n",
    "            self.analysis_tabs_widget.set_title(i, analysis_tabs_children_names[i])\n",
    "        \n",
    "        # final container for all UI\n",
    "        self.container = VBox([\n",
    "            HBox([\n",
    "                logo_widget,\n",
    "                VBox([\n",
    "                    blank_line_widget,\n",
    "                    blank_line_widget,\n",
    "                    title_widget\n",
    "                ])\n",
    "            ]),\n",
    "            instruction_text_widget,\n",
    "            blank_line_widget,\n",
    "            user_input_widgets,\n",
    "            submit_info_widgets,\n",
    "            blank_line_widget,\n",
    "            self.analysis_tabs_widget\n",
    "        ])\n",
    "    \n",
    "    \n",
    "    # resets uploader and user name widgets\n",
    "    def reset_user_input_widgets(self):\n",
    "        self.uploader_widget.value.clear()\n",
    "        self.uploader_widget._counter = 0\n",
    "        self.user_name_widget.value = \"\"\n",
    "            \n",
    "    \n",
    "    # this is run when the begin button is pressed; preprocesses the data, populates user_info, and sets up the analysis tabs\n",
    "    def begin_analysis(self, button_instance):\n",
    "        self.status_text_widget.value = '<p style=\"font-size:18px;color:orange;\"><b>Processing...</b></p>'\n",
    "        time.sleep(1)\n",
    "        user_info = self.process_user_info()\n",
    "        if user_info == {}:\n",
    "            # user info loading failed\n",
    "            self.status_text_widget.value = '<p style=\"font-size:18px;color:red;\"><b>Error. Please ensure the specified name is a valid user in the uploaded chat logs.</b></p>'\n",
    "            self.reset_user_input_widgets()\n",
    "        else:\n",
    "            # user info loading succeeded; init all analysis tab widgets\n",
    "            self.reset_user_input_widgets()\n",
    "            self.basic_info_widget.init_widget_data(user_info)\n",
    "            self.cluster_widget.data_been_processed(user_info)\n",
    "            self.sentiment_analysis_widget.init_widget_data(user_info)\n",
    "            self.stylized_chatbot_widget.init_widget_data(user_info)\n",
    "            self.status_text_widget.value = '<p style=\"font-size:18px;color:green;\"><b>Finished processing user \\\"{}\\\".</b></p>'.format(user_info[\"user_name\"])\n",
    "    \n",
    "    \n",
    "    # preprocesses data from uploader and user_name widgets, into a user_info dict\n",
    "    def process_user_info(self):\n",
    "        user_name = self.user_name_widget.value\n",
    "        \n",
    "        if user_name == \"\" or self.uploader_widget.value == {}:\n",
    "            return {}\n",
    "        \n",
    "        else:\n",
    "            temp_files_dir = \"./dashboard_temp_files\"\n",
    "            cached_user_data_dir = os.path.join(\"./cached_user_data\", user_name)\n",
    "            user_messages_path = os.path.join(cached_user_data_dir, \"user_messages.p\")\n",
    "            \n",
    "            # if cache of user messages does not exist, create it\n",
    "            if not os.path.exists(user_messages_path):\n",
    "                # prepping an empty temp folder to hold uploaded data\n",
    "                if os.path.exists(temp_files_dir):\n",
    "                    shutil.rmtree(temp_files_dir)\n",
    "                os.makedirs(temp_files_dir)\n",
    "                # saving zip file from uploader widget into temp folder\n",
    "                uploaded_file_path = os.path.join(temp_files_dir, \"saved-output.zip\")\n",
    "                with open(uploaded_file_path, \"wb\") as f:\n",
    "                    content = (self.uploader_widget.value[list(self.uploader_widget.value.keys())[0]])[\"content\"]\n",
    "                    f.write(content)\n",
    "                # unzipping\n",
    "                with zipfile.ZipFile(uploaded_file_path, 'r') as zip_ref:\n",
    "                    zip_ref.extractall(temp_files_dir)\n",
    "                os.remove(uploaded_file_path)\n",
    "                # extracting user's messages from text the unzipped files\n",
    "                discord_log_paths = [str(path) for path in list(Path(temp_files_dir).rglob('*.txt'))]\n",
    "                channel_messages, _ = data_preprocessing.process_discord_data(discord_log_paths, 3)\n",
    "                # saving user messages in user cache dir, and returning user_info dict\n",
    "                if user_name in channel_messages:\n",
    "                    os.makedirs(cached_user_data_dir, exist_ok=True)\n",
    "                    pickle.dump(channel_messages[user_name], open(user_messages_path, \"wb\"))\n",
    "                else:\n",
    "                    return {}\n",
    "                \n",
    "            user_messages = pickle.load(open(user_messages_path, \"rb\"))\n",
    "            return {\"user_name\": user_name, \"user_messages\": user_messages}\n"
   ]
  },
  {
   "cell_type": "code",
   "execution_count": 24,
   "metadata": {
    "ExecuteTime": {
     "end_time": "2021-06-01T02:39:10.810224Z",
     "start_time": "2021-06-01T02:39:07.601126Z"
    },
    "scrolled": false
   },
   "outputs": [
    {
     "data": {
      "application/vnd.jupyter.widget-view+json": {
       "model_id": "b54b7e1ee103487e92397db0d039d71d",
       "version_major": 2,
       "version_minor": 0
      },
      "text/plain": [
       "VBox(children=(HBox(children=(Image(value=b'\\x89PNG\\r\\n\\x1a\\n\\x00\\x00\\x00\\rIHDR\\x00\\x00\\x01D\\x00\\x00\\x01K\\x08\\…"
      ]
     },
     "metadata": {},
     "output_type": "display_data"
    }
   ],
   "source": [
    "app = App()\n",
    "display(app.container)"
   ]
  },
  {
   "cell_type": "code",
   "execution_count": null,
   "metadata": {},
   "outputs": [],
   "source": []
  }
 ],
 "metadata": {
  "kernelspec": {
   "display_name": "Python 3",
   "language": "python",
   "name": "python3"
  },
  "language_info": {
   "codemirror_mode": {
    "name": "ipython",
    "version": 3
   },
   "file_extension": ".py",
   "mimetype": "text/x-python",
   "name": "python",
   "nbconvert_exporter": "python",
   "pygments_lexer": "ipython3",
   "version": "3.8.5"
  },
  "metadata": {
   "interpreter": {
    "hash": "aee8b7b246df8f9039afb4144a1f6fd8d2ca17a180786b69acc140d282b71a49"
   }
  },
  "voila": {
   "theme": "dark"
  }
 },
 "nbformat": 4,
 "nbformat_minor": 4
}
