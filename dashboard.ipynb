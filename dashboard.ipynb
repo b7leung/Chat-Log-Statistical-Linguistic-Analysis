{
 "cells": [
  {
   "cell_type": "code",
   "execution_count": 1,
   "metadata": {
    "ExecuteTime": {
     "end_time": "2021-05-11T21:18:30.423979Z",
     "start_time": "2021-05-11T21:18:30.407156Z"
    }
   },
   "outputs": [],
   "source": [
    "%load_ext autoreload\n",
    "%autoreload 2"
   ]
  },
  {
   "cell_type": "code",
   "execution_count": 2,
   "metadata": {
    "ExecuteTime": {
     "end_time": "2021-05-11T21:18:32.871193Z",
     "start_time": "2021-05-11T21:18:30.425133Z"
    }
   },
   "outputs": [
    {
     "output_type": "stream",
     "name": "stderr",
     "text": [
      "[nltk_data] Downloading package punkt to\n[nltk_data]     /Users/kevinyoussef/nltk_data...\n[nltk_data]   Package punkt is already up-to-date!\n"
     ]
    }
   ],
   "source": [
    "import os\n",
    "import shutil\n",
    "import zipfile\n",
    "import pprint\n",
    "from pathlib import Path\n",
    "import pickle\n",
    "import sys\n",
    "from functools import partialmethod\n",
    "import time\n",
    "\n",
    "import tqdm\n",
    "tqdm.__init__ = partialmethod(tqdm.__init__, disable=True) # silence tqdm\n",
    "from ipywidgets import interact, interactive, fixed, interact_manual,Button, HBox, VBox\n",
    "import ipywidgets as widgets\n",
    "\n",
    "from nlp_suite import data_preprocessing\n",
    "from basic_info_widget import BasicInfoWidget \n",
    "from example_widget import ExampleWidget \n",
    "from stylized_chatbot_widget import StylizedChatbotWidget\n",
    "from cluster_widget import ClusterWidget\n",
    "from nlp_suite.clustering.utils import plot_3d_clusters\n",
    "from ipywidgets import Checkbox, VBox, HBox, Text, Dropdown, Image, IntSlider\n",
    "import pandas as pd\n",
    "# import matplotlib\n",
    "# matplotlib.use('Agg')\n",
    "import matplotlib.pyplot as plt\n",
    "from nlp_suite.clustering.utils import plot_3d_clusters, classify_text\n",
    "from nlp_suite.text_analysis.text_analysis_kevin import *"
   ]
  },
  {
   "cell_type": "code",
   "execution_count": 3,
   "metadata": {
    "ExecuteTime": {
     "end_time": "2021-05-11T21:18:32.912868Z",
     "start_time": "2021-05-11T21:18:32.872621Z"
    },
    "code_folding": []
   },
   "outputs": [],
   "source": [
    "class App:\n",
    "    \n",
    "    def __init__(self):\n",
    "        # Add Logo\n",
    "        file = open(\"./Graphics/logo_inverted.png\", \"rb\")\n",
    "        logo_widget = widgets.Image(value=file.read(),format='png',width=200,height=200)\n",
    "        # Add Title\n",
    "        title_widget = widgets.HTML('<p style=\"font-size:60px\"><b>Chat Analysis Title</b></p>')\n",
    "        # Instruction text UI\n",
    "        instruction_text_widget = widgets.HTML('<p style=\"font-size:18px\"><b>To begin, upload a zipped folder containing chat log file(s), and specify a user. </br>Then, click the green button to start the data analysis.</b></p>')\n",
    "        blank_line_widget = widgets.HTML('<br>')\n",
    "        \n",
    "        # Upload input chat log UI\n",
    "        self.uploader_widget = widgets.FileUpload(description=\"Upload Chat\", accept='.zip', multiple=False)\n",
    "        self.user_name_widget = widgets.Text(description='User Name:', disabled=False)\n",
    "        user_input_widgets = HBox([self.uploader_widget, self.user_name_widget])\n",
    "        \n",
    "        # submit chat log UI\n",
    "        process_data_button_widget = widgets.Button(description='Process Chat Data', disabled=False, button_style='success')\n",
    "        process_data_button_widget.on_click(self.begin_analysis)\n",
    "        self.status_text_widget = widgets.HTML('')\n",
    "        submit_info_widgets = HBox([process_data_button_widget, self.status_text_widget])\n",
    "        \n",
    "        # SHOW TEXT ANALYSIS FOR CLUSTERS\n",
    "        pkl_data = pickle.load(open('./nlp_suite/clustering/cluster_data.pkl', 'rb'))\n",
    "        labels, pca = pkl_data['labels'], pkl_data['pca']\n",
    "        self.fig = plot_3d_clusters(pca, labels, max_points=50000)\n",
    "        self.cluster_dd = Dropdown(\n",
    "                options=[(f'Cluster {i}', i) for i in range(max(labels)+1)],\n",
    "                value=0,\n",
    "                description='Cluster:',\n",
    "            )\n",
    "        def on_click(trace, points, state):\n",
    "            self.cluster_dd.value = int(trace.marker.color[points.point_inds[0]])\n",
    "            \n",
    "        self.fig.data[0].on_click(on_click)\n",
    "\n",
    "\n",
    "\n",
    "        # analysis tabs UI\n",
    "        self.basic_info_widget = BasicInfoWidget()\n",
    "        self.example_widget = ExampleWidget()\n",
    "        self.stylized_chatbot_widget = StylizedChatbotWidget()\n",
    "        self.cluster_widget = ClusterWidget()\n",
    "        analysis_tabs_child_widgets = [self.basic_info_widget.get_widget(),\n",
    "                                       self.example_widget.get_widget(),\n",
    "                                       self.stylized_chatbot_widget.get_widget(),\n",
    "                                       self.cluster_widget.get_widget()]\n",
    "        analysis_tabs_children_names = [\"Basic Info\", \"Example\", \"Chatbot\", \"Clustering\"]\n",
    "        self.analysis_tabs_widget = widgets.Tab(children = analysis_tabs_child_widgets)\n",
    "        for i in range(len(analysis_tabs_child_widgets)):\n",
    "            self.analysis_tabs_widget.set_title(i, analysis_tabs_children_names[i])\n",
    "            \n",
    "        self.container = VBox([HBox([logo_widget,VBox([blank_line_widget,blank_line_widget,title_widget])]),instruction_text_widget, blank_line_widget, user_input_widgets, submit_info_widgets, blank_line_widget, self.analysis_tabs_widget])\n",
    "    \n",
    "    \n",
    "    # resets uploader and user name widgets\n",
    "    def reset_user_input_widgets(self):\n",
    "        self.uploader_widget.value.clear()\n",
    "        self.uploader_widget._counter = 0\n",
    "        self.user_name_widget.value = \"\"\n",
    "            \n",
    "    \n",
    "    # this is run when the begin button is pressed; preprocesses the data, populates user_info, and sets up the analysis tabs\n",
    "    def begin_analysis(self, button_instance):\n",
    "        self.status_text_widget.value = '<p style=\"font-size:18px;color:orange;\"><b>Processing...</b></p>'\n",
    "        time.sleep(1)\n",
    "        user_info = self.process_user_info()\n",
    "        if user_info == {}:\n",
    "            # user info loading failed\n",
    "            self.status_text_widget.value = '<p style=\"font-size:18px;color:red;\"><b>Error. Please ensure the specified name is a valid user in the uploaded chat logs.</b></p>'\n",
    "            self.reset_user_input_widgets()\n",
    "        else:\n",
    "            # user info loading succeeded; init all analysis tab widgets\n",
    "            self.status_text_widget.value = '<p style=\"font-size:18px;color:green;\"><b>Finished processing user \\\"{}\\\".</b></p>'.format(user_info[\"user_name\"])\n",
    "            self.reset_user_input_widgets()\n",
    "            self.basic_info_widget.init_widget_data(user_info)\n",
    "            self.example_widget.init_widget_data(user_info)\n",
    "            self.stylized_chatbot_widget.init_widget_data(user_info)\n",
    "            self.cluster_widget.checkboxes()\n",
    "    \n",
    "    \n",
    "    # preprocesses data from uploader and user_name widgets, into a user_info dict\n",
    "    def process_user_info(self):\n",
    "        user_name = self.user_name_widget.value\n",
    "        \n",
    "        if user_name == \"\" or self.uploader_widget.value == {}:\n",
    "            return {}\n",
    "        \n",
    "        else:\n",
    "            temp_files_dir = \"./dashboard_temp_files\"\n",
    "            cached_user_data_dir = os.path.join(\"./cached_user_data\", user_name)\n",
    "            user_messages_path = os.path.join(cached_user_data_dir, \"user_messages.p\")\n",
    "            \n",
    "            # if cache of user messages does not exist, create it\n",
    "            if not os.path.exists(user_messages_path):\n",
    "                # prepping an empty temp folder to hold uploaded data\n",
    "                if os.path.exists(temp_files_dir):\n",
    "                    shutil.rmtree(temp_files_dir)\n",
    "                os.makedirs(temp_files_dir)\n",
    "                # saving zip file from uploader widget into temp folder\n",
    "                uploaded_file_path = os.path.join(temp_files_dir, \"saved-output.zip\")\n",
    "                with open(uploaded_file_path, \"wb\") as f:\n",
    "                    content = (self.uploader_widget.value[list(self.uploader_widget.value.keys())[0]])[\"content\"]\n",
    "                    f.write(content)\n",
    "                # unzipping\n",
    "                with zipfile.ZipFile(uploaded_file_path, 'r') as zip_ref:\n",
    "                    zip_ref.extractall(temp_files_dir)\n",
    "                os.remove(uploaded_file_path)\n",
    "                # extracting user's messages from text the unzipped files\n",
    "                discord_log_paths = [str(path) for path in list(Path(temp_files_dir).rglob('*.txt'))]\n",
    "                channel_messages, _ = data_preprocessing.process_discord_data(discord_log_paths, 3)\n",
    "                # saving user messages in user cache dir, and returning user_info dict\n",
    "                if user_name in channel_messages:\n",
    "                    os.makedirs(cached_user_data_dir, exist_ok=True)\n",
    "                    pickle.dump(channel_messages[user_name], open(user_messages_path, \"wb\"))\n",
    "                else:\n",
    "                    return {}\n",
    "                \n",
    "            user_messages = pickle.load(open(user_messages_path, \"rb\"))\n",
    "            return {\"user_name\": user_name, \"user_messages\": user_messages}\n"
   ]
  },
  {
   "cell_type": "code",
   "execution_count": 4,
   "metadata": {
    "ExecuteTime": {
     "end_time": "2021-05-11T21:18:33.021401Z",
     "start_time": "2021-05-11T21:18:32.914116Z"
    },
    "scrolled": false
   },
   "outputs": [
    {
     "output_type": "stream",
     "name": "stderr",
     "text": [
      "/Users/kevinyoussef/opt/anaconda3/lib/python3.8/site-packages/sklearn/base.py:329: UserWarning: Trying to unpickle estimator MiniBatchKMeans from version 0.24.1 when using version 0.23.1. This might lead to breaking code or invalid results. Use at your own risk.\n",
      "  warnings.warn(\n",
      "/Users/kevinyoussef/opt/anaconda3/lib/python3.8/site-packages/sklearn/base.py:329: UserWarning:\n",
      "\n",
      "Trying to unpickle estimator MiniBatchKMeans from version 0.24.1 when using version 0.23.1. This might lead to breaking code or invalid results. Use at your own risk.\n",
      "\n"
     ]
    },
    {
     "output_type": "error",
     "ename": "FileNotFoundError",
     "evalue": "[Errno 2] No such file or directory: './cached_user_data/muffins/user_messages.p'",
     "traceback": [
      "\u001b[0;31m---------------------------------------------------------------------------\u001b[0m",
      "\u001b[0;31mFileNotFoundError\u001b[0m                         Traceback (most recent call last)",
      "\u001b[0;32m<ipython-input-4-af835c899814>\u001b[0m in \u001b[0;36m<module>\u001b[0;34m\u001b[0m\n\u001b[0;32m----> 1\u001b[0;31m \u001b[0mapp\u001b[0m \u001b[0;34m=\u001b[0m \u001b[0mApp\u001b[0m\u001b[0;34m(\u001b[0m\u001b[0;34m)\u001b[0m\u001b[0;34m\u001b[0m\u001b[0;34m\u001b[0m\u001b[0m\n\u001b[0m\u001b[1;32m      2\u001b[0m \u001b[0mdisplay\u001b[0m\u001b[0;34m(\u001b[0m\u001b[0mapp\u001b[0m\u001b[0;34m.\u001b[0m\u001b[0mcontainer\u001b[0m\u001b[0;34m)\u001b[0m\u001b[0;34m\u001b[0m\u001b[0;34m\u001b[0m\u001b[0m\n",
      "\u001b[0;32m<ipython-input-3-64fd7112510c>\u001b[0m in \u001b[0;36m__init__\u001b[0;34m(self)\u001b[0m\n\u001b[1;32m     42\u001b[0m         \u001b[0mself\u001b[0m\u001b[0;34m.\u001b[0m\u001b[0mexample_widget\u001b[0m \u001b[0;34m=\u001b[0m \u001b[0mExampleWidget\u001b[0m\u001b[0;34m(\u001b[0m\u001b[0;34m)\u001b[0m\u001b[0;34m\u001b[0m\u001b[0;34m\u001b[0m\u001b[0m\n\u001b[1;32m     43\u001b[0m         \u001b[0mself\u001b[0m\u001b[0;34m.\u001b[0m\u001b[0mstylized_chatbot_widget\u001b[0m \u001b[0;34m=\u001b[0m \u001b[0mStylizedChatbotWidget\u001b[0m\u001b[0;34m(\u001b[0m\u001b[0;34m)\u001b[0m\u001b[0;34m\u001b[0m\u001b[0;34m\u001b[0m\u001b[0m\n\u001b[0;32m---> 44\u001b[0;31m         \u001b[0mself\u001b[0m\u001b[0;34m.\u001b[0m\u001b[0mcluster_widget\u001b[0m \u001b[0;34m=\u001b[0m \u001b[0mClusterWidget\u001b[0m\u001b[0;34m(\u001b[0m\u001b[0;34m)\u001b[0m\u001b[0;34m\u001b[0m\u001b[0;34m\u001b[0m\u001b[0m\n\u001b[0m\u001b[1;32m     45\u001b[0m         analysis_tabs_child_widgets = [self.basic_info_widget.get_widget(),\n\u001b[1;32m     46\u001b[0m                                        \u001b[0mself\u001b[0m\u001b[0;34m.\u001b[0m\u001b[0mexample_widget\u001b[0m\u001b[0;34m.\u001b[0m\u001b[0mget_widget\u001b[0m\u001b[0;34m(\u001b[0m\u001b[0;34m)\u001b[0m\u001b[0;34m,\u001b[0m\u001b[0;34m\u001b[0m\u001b[0;34m\u001b[0m\u001b[0m\n",
      "\u001b[0;32m~/Desktop/ECE 229/Project/ece_229_group_9_nlp_suite/cluster_widget.py\u001b[0m in \u001b[0;36m__init__\u001b[0;34m(self)\u001b[0m\n\u001b[1;32m     30\u001b[0m \u001b[0;34m\u001b[0m\u001b[0m\n\u001b[1;32m     31\u001b[0m         \u001b[0mself\u001b[0m\u001b[0;34m.\u001b[0m\u001b[0mfig\u001b[0m\u001b[0;34m.\u001b[0m\u001b[0mdata\u001b[0m\u001b[0;34m[\u001b[0m\u001b[0;36m0\u001b[0m\u001b[0;34m]\u001b[0m\u001b[0;34m.\u001b[0m\u001b[0mon_click\u001b[0m\u001b[0;34m(\u001b[0m\u001b[0mon_click\u001b[0m\u001b[0;34m)\u001b[0m\u001b[0;34m\u001b[0m\u001b[0;34m\u001b[0m\u001b[0m\n\u001b[0;32m---> 32\u001b[0;31m         \u001b[0mself\u001b[0m\u001b[0;34m.\u001b[0m\u001b[0mcheckboxes\u001b[0m\u001b[0;34m(\u001b[0m\u001b[0;34m)\u001b[0m\u001b[0;34m\u001b[0m\u001b[0;34m\u001b[0m\u001b[0m\n\u001b[0m\u001b[1;32m     33\u001b[0m         \u001b[0mlayout\u001b[0m \u001b[0;34m=\u001b[0m \u001b[0mwidgets\u001b[0m\u001b[0;34m.\u001b[0m\u001b[0mLayout\u001b[0m\u001b[0;34m(\u001b[0m\u001b[0mwidth\u001b[0m\u001b[0;34m=\u001b[0m\u001b[0;34m'auto'\u001b[0m\u001b[0;34m)\u001b[0m\u001b[0;34m\u001b[0m\u001b[0;34m\u001b[0m\u001b[0m\n\u001b[1;32m     34\u001b[0m         \u001b[0mheader\u001b[0m \u001b[0;34m=\u001b[0m \u001b[0mHTML\u001b[0m\u001b[0;34m(\u001b[0m\u001b[0mdescription\u001b[0m\u001b[0;34m=\u001b[0m\u001b[0;34m\"3D visualization of user clusters\"\u001b[0m\u001b[0;34m,\u001b[0m\u001b[0mlayout\u001b[0m\u001b[0;34m=\u001b[0m\u001b[0mlayout\u001b[0m\u001b[0;34m)\u001b[0m\u001b[0;34m\u001b[0m\u001b[0;34m\u001b[0m\u001b[0m\n",
      "\u001b[0;32m~/Desktop/ECE 229/Project/ece_229_group_9_nlp_suite/cluster_widget.py\u001b[0m in \u001b[0;36mcheckboxes\u001b[0;34m(self)\u001b[0m\n\u001b[1;32m     50\u001b[0m         \u001b[0muser_messages_path\u001b[0m\u001b[0;34m=\u001b[0m\u001b[0;34m'./cached_user_data/muffins/user_messages.p'\u001b[0m\u001b[0;34m\u001b[0m\u001b[0;34m\u001b[0m\u001b[0m\n\u001b[1;32m     51\u001b[0m         \u001b[0mdf\u001b[0m \u001b[0;34m=\u001b[0m \u001b[0mpd\u001b[0m\u001b[0;34m.\u001b[0m\u001b[0mDataFrame\u001b[0m\u001b[0;34m(\u001b[0m\u001b[0;34m)\u001b[0m\u001b[0;34m\u001b[0m\u001b[0;34m\u001b[0m\u001b[0m\n\u001b[0;32m---> 52\u001b[0;31m         \u001b[0mdf\u001b[0m\u001b[0;34m[\u001b[0m\u001b[0;34m'user_messages'\u001b[0m\u001b[0;34m]\u001b[0m \u001b[0;34m=\u001b[0m \u001b[0mpickle\u001b[0m\u001b[0;34m.\u001b[0m\u001b[0mload\u001b[0m\u001b[0;34m(\u001b[0m\u001b[0mopen\u001b[0m\u001b[0;34m(\u001b[0m\u001b[0muser_messages_path\u001b[0m\u001b[0;34m,\u001b[0m \u001b[0;34m\"rb\"\u001b[0m\u001b[0;34m)\u001b[0m\u001b[0;34m)\u001b[0m\u001b[0;34m\u001b[0m\u001b[0;34m\u001b[0m\u001b[0m\n\u001b[0m\u001b[1;32m     53\u001b[0m         \u001b[0mself\u001b[0m\u001b[0;34m.\u001b[0m\u001b[0mtext_analysis\u001b[0m \u001b[0;34m=\u001b[0m \u001b[0mget_text_analysis\u001b[0m\u001b[0;34m(\u001b[0m\u001b[0mdf\u001b[0m\u001b[0;34m)\u001b[0m\u001b[0;34m\u001b[0m\u001b[0;34m\u001b[0m\u001b[0m\n\u001b[1;32m     54\u001b[0m         \u001b[0mget_plots\u001b[0m\u001b[0;34m(\u001b[0m\u001b[0;34m*\u001b[0m\u001b[0mself\u001b[0m\u001b[0;34m.\u001b[0m\u001b[0mtext_analysis\u001b[0m\u001b[0;34m)\u001b[0m\u001b[0;34m\u001b[0m\u001b[0;34m\u001b[0m\u001b[0m\n",
      "\u001b[0;31mFileNotFoundError\u001b[0m: [Errno 2] No such file or directory: './cached_user_data/muffins/user_messages.p'"
     ]
    }
   ],
   "source": [
    "app = App()\n",
    "display(app.container)"
   ]
  }
 ],
 "metadata": {
  "kernelspec": {
   "name": "python383jvsc74a57bd016de499843811ae42afde76fbd9f0befbd227a09bc0d330fb6a3037ce996657b",
   "display_name": "Python 3.8.3 64-bit ('base': conda)"
  },
  "language_info": {
   "codemirror_mode": {
    "name": "ipython",
    "version": 3
   },
   "file_extension": ".py",
   "mimetype": "text/x-python",
   "name": "python",
   "nbconvert_exporter": "python",
   "pygments_lexer": "ipython3",
   "version": "3.8.3"
  },
  "metadata": {
   "interpreter": {
    "hash": "aee8b7b246df8f9039afb4144a1f6fd8d2ca17a180786b69acc140d282b71a49"
   }
  },
  "voila": {
   "theme": "dark"
  }
 },
 "nbformat": 4,
 "nbformat_minor": 4
}