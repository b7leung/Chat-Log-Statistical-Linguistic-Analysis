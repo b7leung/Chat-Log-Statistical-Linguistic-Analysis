{
 "cells": [
  {
   "cell_type": "code",
   "execution_count": 1,
   "metadata": {
    "ExecuteTime": {
     "end_time": "2021-05-06T07:33:49.110071Z",
     "start_time": "2021-05-06T07:33:49.093790Z"
    }
   },
   "outputs": [],
   "source": [
    "%load_ext autoreload\n",
    "%autoreload 2"
   ]
  },
  {
   "cell_type": "code",
   "execution_count": 2,
   "metadata": {
    "ExecuteTime": {
     "end_time": "2021-05-06T07:33:56.154019Z",
     "start_time": "2021-05-06T07:33:56.084292Z"
    }
   },
   "outputs": [],
   "source": [
    "import os\n",
    "import shutil\n",
    "import zipfile\n",
    "import pprint\n",
    "from pathlib import Path\n",
    "import pickle\n",
    "\n",
    "from ipywidgets import interact, interactive, fixed, interact_manual,Button, HBox, VBox\n",
    "import ipywidgets as widgets\n",
    "from ipywidgets import TwoByTwoLayout\n",
    "from ipywidgets import Button, Layout\n",
    "from termcolor import colored\n",
    "\n",
    "from nlp_suite import data_preprocessing\n",
    "#from style_transfer_chatbot import StyleTransferChatbot"
   ]
  },
  {
   "cell_type": "code",
   "execution_count": 3,
   "metadata": {
    "ExecuteTime": {
     "end_time": "2021-05-06T07:33:56.176875Z",
     "start_time": "2021-05-06T07:33:56.156127Z"
    }
   },
   "outputs": [],
   "source": [
    "def process_inputs(button_instance):\n",
    "    temp_files_dir = \"./dashboard_temp_files\"\n",
    "    global user_name\n",
    "    user_name = user_name_widget.value\n",
    "    \n",
    "    if user_name != \"\" and uploader_widget.value != {}:\n",
    "        # prepping an empty temp folder to hold uploaded data\n",
    "        if os.path.exists(temp_files_dir):\n",
    "            shutil.rmtree(temp_files_dir)\n",
    "        os.makedirs(temp_files_dir)\n",
    "        \n",
    "        # saving uploaded zip\n",
    "        uploaded_file_path = os.path.join(temp_files_dir, \"saved-output.zip\")\n",
    "        with open(uploaded_file_path, \"wb\") as f:\n",
    "            content = (uploader_widget.value[list(uploader_widget.value.keys())[0]])[\"content\"]\n",
    "            f.write(content)\n",
    "            \n",
    "        # unzipping\n",
    "        with zipfile.ZipFile(uploaded_file_path, 'r') as zip_ref:\n",
    "            zip_ref.extractall(temp_files_dir)\n",
    "        os.remove(uploaded_file_path)\n",
    "        \n",
    "        # extracting user's messages from text files\n",
    "        discord_log_paths = [str(path) for path in list(Path(temp_files_dir).rglob('*.txt'))]\n",
    "        channel_messages, _ = data_preprocessing.process_discord_data(discord_log_paths, 3)\n",
    "        \n",
    "        # saving user messages in cache \n",
    "        if user_name in channel_messages:\n",
    "            cached_user_data_dir = os.path.join(\"cached_user_data\", user_name)\n",
    "            os.makedirs(cached_user_data_dir, exist_ok=True)\n",
    "            user_messages_path = os.path.join(cached_user_data_dir, \"user_messages.p\")\n",
    "            pickle.dump(channel_messages[user_name], open(user_messages_path, \"wb\"))\n",
    "            global user_messages\n",
    "            user_messages = pickle.load(open(user_messages_path, \"rb\"))\n",
    "            \n",
    "        else:\n",
    "            return None\n",
    "    else:\n",
    "        return None\n",
    "        "
   ]
  },
  {
   "cell_type": "code",
   "execution_count": 4,
   "metadata": {
    "ExecuteTime": {
     "end_time": "2021-05-06T07:33:58.762332Z",
     "start_time": "2021-05-06T07:33:58.721481Z"
    }
   },
   "outputs": [
    {
     "name": "stdout",
     "output_type": "stream",
     "text": [
      "Please upload a zipped folder containing chat log file(s), and specify a user. \n",
      "Then, click the green button to start the data analysis.\n"
     ]
    },
    {
     "data": {
      "application/vnd.jupyter.widget-view+json": {
       "model_id": "fecdee4980484a3792ef0d6f4f8738e8",
       "version_major": 2,
       "version_minor": 0
      },
      "text/plain": [
       "HBox(children=(FileUpload(value={}, accept='.zip', description='Upload Chat'), Text(value='', description='Use…"
      ]
     },
     "metadata": {},
     "output_type": "display_data"
    },
    {
     "data": {
      "application/vnd.jupyter.widget-view+json": {
       "model_id": "09de020a320f494ea5668ed5e9823b55",
       "version_major": 2,
       "version_minor": 0
      },
      "text/plain": [
       "Button(button_style='success', description='Process Chat Data', style=ButtonStyle())"
      ]
     },
     "metadata": {},
     "output_type": "display_data"
    },
    {
     "name": "stdout",
     "output_type": "stream",
     "text": [
      "processing\n",
      "processing\n"
     ]
    }
   ],
   "source": [
    "# data input\n",
    "user_name = \"\"\n",
    "user_messages = None\n",
    "\n",
    "print(\"Please upload a zipped folder containing chat log file(s), and specify a user. \\nThen, click the green button to start the data analysis.\")\n",
    "uploader_widget = widgets.FileUpload(description=\"Upload Chat\", accept='.zip', multiple=False)\n",
    "user_name_widget = widgets.Text(description='User Name:', disabled=False)\n",
    "process_data_button_widget = widgets.Button(description='Process Chat Data', disabled=False, button_style='success')\n",
    "process_data_button_widget.on_click(process_inputs)\n",
    "\n",
    "display(HBox([uploader_widget, user_name_widget]))\n",
    "display(process_data_button_widget)"
   ]
  },
  {
   "cell_type": "code",
   "execution_count": 14,
   "metadata": {
    "ExecuteTime": {
     "end_time": "2021-05-06T07:36:01.737332Z",
     "start_time": "2021-05-06T07:36:01.721854Z"
    }
   },
   "outputs": [
    {
     "name": "stdout",
     "output_type": "stream",
     "text": [
      "Victoria\n",
      "['I AM HOSTING A PARTY STARTING TOMMOROW AT 9:00 :D ENJOY URSLEVES IN THE '\n",
      " 'PARTAE',\n",
      " 'SEARCH IT UP AND CONVERT',\n",
      " ':D WHATS UR TIME',\n",
      " \"what's your time zone\",\n",
      " 'by the way you should promo yourself by speaking more often or you will '\n",
      " 'become a ghost',\n",
      " 'Pls watch this and click thmbs up if you like it',\n",
      " 'OMG @Small Fan NOOO SMALL FN WHAT HAPPENED ur role is a ghost:',\n",
      " 'what cool you have malware eh? oh no app data you should redirect the '\n",
      " 'foloder to oh whatever hmm mal bytes get rid of them os',\n",
      " 'thats bad do you have mcafee i do',\n",
      " 'oh mcafee is awesome i have 1 year for free and its super strong but you '\n",
      " 'need malware bytes is that the only tab you have open? @IM CHIKN',\n",
      " 'you have chrome or safari',\n",
      " 'looks like you didnt do a full screenshot so im guessing you have a pc? idk '\n",
      " 'hmmm',\n",
      " 'never heard of smart service',\n",
      " 'if its not responding close the tab',\n",
      " 'did you just get ot today?',\n",
      " 'open that malware thing again see if you can do a cleanup its not all that '\n",
      " 'bad i supposedy have the zeus virus',\n",
      " 'i actually broke down the last computer dont install it',\n",
      " 'dont dont i was super scraed when my computer froze and i got a virus and my '\n",
      " 'computer went on lockdown bc I DIDNT CLOSE THE GAMING TAB im not allowed to '\n",
      " 'game',\n",
      " '@IM CHIKN just write downt he nameof the virus shut ur laptop restart it',\n",
      " 'hope you make it im not an expert',\n",
      " 'gosh i cant really see them ok whats 6',\n",
      " 'sure maybe you could downlaod plumbytes',\n",
      " 'bc ur earlier screenshot said in',\n",
      " 'app data it might be creating files in that area and attempting to',\n",
      " 'hijack administrator rights ok give me a screenie mcafee and avast security '\n",
      " 'help me so much i lso have bytefence anti malware so im good : @IM CHIKN i '\n",
      " 'dont think i have thr zeus cirus virus',\n",
      " 'if a tab pops up and wtf what does it fckingsay ur on ur phone on discord '\n",
      " 'right',\n",
      " 'ok... frick ur laptop always does this when you restart?',\n",
      " 'btw dont trust pop ups that randomly say u have a virus call this number '\n",
      " 'toll free at: blablahbalh',\n",
      " 'ughhh yes reboot im safe im sorry chiken ;',\n",
      " \"i cant NO NOOO dont STOp phew i cant fricking read it' waht dow sit sy here \"\n",
      " 'take a better photo',\n",
      " 'mmhm NICe much better why does it say that when you restart?',\n",
      " 'rtake another picture what does it say',\n",
      " 'oh just press enter howd you even GET this',\n",
      " 'How Some Malware Gets On Your Computer Malware, spyware, and other junk '\n",
      " 'software makes it onto your computer for a number of reasons: You installed '\n",
      " 'something you really shouldnt have, from an untrustworthy source. Often '\n",
      " 'these include screensavers, toolbars, or torrents that you didnt scan for '\n",
      " 'viruses. You didnt pay attention when installing a reputable” application '\n",
      " 'that bundles optional” crapware. Youve already managed to get yourself '\n",
      " 'infected, and the malware installs even more malware. You arent using a '\n",
      " 'quality AntiVirus or AntiSpyware application. from a website just dont do '\n",
      " 'that ok sheesh',\n",
      " 'mmhm visited a website for the first time?',\n",
      " 'ok i dont know sned me another picture',\n",
      " 'dont u already did yea ok try 5 @IM CHIKN',\n",
      " 'sorry i dont know much',\n",
      " 'yea.. i dont know why you have startup settings like those weird ones',\n",
      " 'oh frick YOU HAVE A PC TOO',\n",
      " 'WHY DIDNT YOU SAY THAT EALIEAR IDC',\n",
      " 'WHY IS UR PC LIKE THIS',\n",
      " \"arent all pc's laptops hey is urs touchscreen\",\n",
      " 'oh : just press windows 10 and enter @IM CHIKN',\n",
      " 'yay you did it : you ok now? if u r',\n",
      " 'whats wrong oh : :',\n",
      " 'go to thats in the drive yea ur right before it said in appdata so you '\n",
      " 'probably cant downlaod it hmm get ur malware defense out',\n",
      " 'i dont think you should have TWF',\n",
      " \"oh wait' you can help him he ha a virus that is affecting his app data\",\n",
      " 'its proabbly gonna get more malware on his computer nope it wont let you',\n",
      " 'its affecting the apps and installment',\n",
      " 'go to downlaods file chicken go there',\n",
      " 'master im not ur mate',\n",
      " 'ok what does it say is ur access revoked?',\n",
      " 'you were able to go to downlaods?',\n",
      " 'check for ay abnormal things apps or stuff there and delete the one you '\n",
      " 'think is if you can but be carefule :C chiken',\n",
      " 'im looking uh idk',\n",
      " 'you dont needa go to programs @Ethann why not @IM CHIKN check the rest '\n",
      " 'should look something like this @IM CHIKN oh damn it',\n",
      " 'yayhes here nice now just do SCREENSHOTS FROM UR PC I CAN BARELY READ IT',\n",
      " 'just go on chrome for ur pc',\n",
      " 'dont worry and if it says restore tabs? dont restore it betr',\n",
      " 'no you need a quick scam san scan',\n",
      " 'customized is better sorry',\n",
      " 'srsly? no do cousomized and that was too quick too suspiscious',\n",
      " 'thats not the file i want it to scan i want it to scan the app data files '\n",
      " 'roaming stuff',\n",
      " 'its scanning googlepingyin WAIT UR CHINSE?',\n",
      " 'ethan its called malware that has taken over',\n",
      " 'his computer good another pic',\n",
      " 'hey did you start a new scan?',\n",
      " 'hm NOW CUSTOMIZED SCAN STRTA NOW ATCUALLY NevEMRIND DO A FULL SCAN',\n",
      " 'FULL SCAN AND THEN ALSO TRY TO DOwnALOD A MALWARE BYTE BYTEFENCE ANTIMALWARE '\n",
      " 'IS GOOD',\n",
      " 'be done by tommorow yet yes',\n",
      " 'try to download bytefence antimalware FROM A SAFE SITE dont just go on '\n",
      " 'chrome and do it',\n",
      " 'when did it detect 2 files infected did you see it say appdata? if not',\n",
      " 'you have much more infected',\n",
      " 'did the rise 1 k did you try the malware byte',\n",
      " 'do you have bytefence antimalware installed or did you TRY ok',\n",
      " 'note that a scan doesnt GET RID OF THOSE STUFF',\n",
      " 'you know malware can install more malware onto ur computer',\n",
      " \"that means i;'ll talk to you tommorow\",\n",
      " 'on general, safe same server',\n",
      " 'goodnight oh wait it might be afternoon for u ok i think its night fo ru',\n",
      " '@BPURE SPEEDY7300 ok @IM CHIKN hows ur comp',\n",
      " '@hope do you want a different color?',\n",
      " '@Obunga because you said you wanted green sum Today at 9:58 AM Im red Realy '\n",
      " 'dark red Vicky Today at 10:42 AM ok @hope do you want a different color? sum '\n",
      " 'Today at 10:51 AM I want green',\n",
      " 'hes also SLAP so',\n",
      " 'its ok @Obunga im good',\n",
      " 'cant think of much else woah im updating our mee6 bot for my server and the '\n",
      " 'partnered servers:',\n",
      " \"no this is the only server i own the other's that are advertized were on my \"\n",
      " 'partners requests they own the other servers:',\n",
      " 'hm im exepreminetinv nope',\n",
      " 'uh toxic @trewq im doing this on ur server pls let me im working hard :D',\n",
      " 'im not downlaoding it although i think i did? i dont know how, though',\n",
      " 'i did press a random utton naw',\n",
      " \"i'll get a virus like i got one the last time i downaloded\",\n",
      " 'ainttol SAI painttol tool',\n",
      " 'yep i thought it would be funny Xd he didnt seem to notice',\n",
      " 'well, im done doing all the mee6bot stuff and i got locked out anyways it '\n",
      " 'literally said',\n",
      " \"erroe 403 you don't have perms to acces this protocol so i deleted the tadb\",\n",
      " 'yea it did but i was workig and anyways i finished',\n",
      " 'i was focusing on editing kawii world mee6 welcome message so that people '\n",
      " 'would immedialty come and ask for a color role']\n"
     ]
    }
   ],
   "source": [
    "print(user_name)\n",
    "pprint.pprint(user_messages[:100])"
   ]
  },
  {
   "cell_type": "code",
   "execution_count": null,
   "metadata": {
    "ExecuteTime": {
     "end_time": "2021-05-06T04:00:45.127550Z",
     "start_time": "2021-05-06T04:00:45.057465Z"
    },
    "scrolled": false
   },
   "outputs": [],
   "source": [
    "############################ CHATBOT ##########################\n",
    "###############################################################\n",
    "\n",
    "style_model_dir = \"/home/svcl-oowl/brandon/classes/ECE_229/project/chatbot/style_transfer_paraphrase/style_paraphrase/saved_models/{}/checkpoint-9294\".format(user)\n",
    "\n",
    "chatbot = StyleTransferChatbot(style_model_dir)\n",
    "chatbot_tokenizer = chatbot.tokenizer\n",
    "\n",
    "# messages seperator based on https://github.com/huggingface/transformers/issues/9365\n",
    "seperator = \"    \"\n",
    "all_conversation_text = \"\"\n",
    "max_position_embeddings = 128\n",
    "\n",
    "out = widgets.Output(layout={'border': '2px solid black', \"height\":\"400px\", \"width\":\"900px\",\"overflow\":'scroll'})\n",
    "\n",
    "@out.capture()\n",
    "def submit_to_chatbot(next_user_input=\"\"):\n",
    "    global all_conversation_text\n",
    "    \n",
    "    # adding user input to conversation text\n",
    "    print(colored('> User', 'blue', attrs=[\"bold\"]) + \": {}\".format(next_user_input))\n",
    "    if all_conversation_text != \"\": \n",
    "        next_user_input = seperator + next_user_input\n",
    "    all_conversation_text += next_user_input\n",
    "    \n",
    "    # truncate token length if needed\n",
    "    curr_token_length = chatbot_tokenizer([all_conversation_text], return_tensors='pt')['input_ids'].shape[1]\n",
    "    while curr_token_length >= max_position_embeddings:\n",
    "        all_conversation_text = seperator.join(all_conversation_text.split(seperator)[1:])\n",
    "        curr_token_length = chatbot_tokenizer([all_conversation_text], return_tensors='pt')['input_ids'].shape[1]\n",
    "    \n",
    "    # get response\n",
    "    bot_stylized_response, bot_response = chatbot.get_response(all_conversation_text)\n",
    "    print(colored('> Bot (original)', 'green', attrs=[\"bold\"]) + \": {}\".format(bot_response))\n",
    "    print(colored('> Bot (stylized)', 'red', attrs=[\"bold\"]) + \": {}\".format(bot_stylized_response))\n",
    "    print(\"\")\n",
    "    all_conversation_text += seperator + bot_stylized_response  \n",
    "\n",
    "def restart(button_instance):\n",
    "    global all_conversation_text\n",
    "    all_conversation_text = \"\"\n",
    "    out.clear_output()\n",
    "\n",
    "button = widgets.Button(description='Restart Chat',disabled=False,button_style='')\n",
    "button.on_click(restart)\n",
    "\n",
    "text_box = widgets.Text(description=\"User Chat:\")\n",
    "text_input = interactive(submit_to_chatbot,{'manual': True, \"manual_name\":\"Submit Message\"}, next_user_input=text_box)\n",
    "left = VBox([out,button])\n",
    "display(HBox([text_input,left]))"
   ]
  },
  {
   "cell_type": "code",
   "execution_count": null,
   "metadata": {},
   "outputs": [],
   "source": []
  },
  {
   "cell_type": "code",
   "execution_count": null,
   "metadata": {},
   "outputs": [],
   "source": []
  },
  {
   "cell_type": "code",
   "execution_count": null,
   "metadata": {},
   "outputs": [],
   "source": []
  },
  {
   "cell_type": "code",
   "execution_count": null,
   "metadata": {},
   "outputs": [],
   "source": []
  }
 ],
 "metadata": {
  "kernelspec": {
   "display_name": "Python [conda env:standard] *",
   "language": "python",
   "name": "conda-env-standard-py"
  },
  "language_info": {
   "codemirror_mode": {
    "name": "ipython",
    "version": 3
   },
   "file_extension": ".py",
   "mimetype": "text/x-python",
   "name": "python",
   "nbconvert_exporter": "python",
   "pygments_lexer": "ipython3",
   "version": "3.6.9"
  }
 },
 "nbformat": 4,
 "nbformat_minor": 4
}
