{
 "cells": [
  {
   "cell_type": "code",
   "execution_count": 1,
   "metadata": {
    "ExecuteTime": {
     "end_time": "2021-05-06T20:08:49.532388Z",
     "start_time": "2021-05-06T20:08:49.499413Z"
    }
   },
   "outputs": [],
   "source": [
    "%load_ext autoreload\n",
    "%autoreload 2"
   ]
  },
  {
   "cell_type": "code",
   "execution_count": 2,
   "metadata": {
    "ExecuteTime": {
     "end_time": "2021-05-06T20:08:52.288421Z",
     "start_time": "2021-05-06T20:08:49.918427Z"
    }
   },
   "outputs": [
    {
     "name": "stderr",
     "output_type": "stream",
     "text": [
      "[nltk_data] Downloading package punkt to /root/nltk_data...\n",
      "[nltk_data]   Package punkt is already up-to-date!\n"
     ]
    }
   ],
   "source": [
    "import os\n",
    "import shutil\n",
    "import zipfile\n",
    "import pprint\n",
    "from pathlib import Path\n",
    "import pickle\n",
    "import sys\n",
    "\n",
    "from ipywidgets import interact, interactive, fixed, interact_manual,Button, HBox, VBox\n",
    "import ipywidgets as widgets\n",
    "from ipywidgets import TwoByTwoLayout\n",
    "from ipywidgets import Button, Layout\n",
    "from termcolor import colored\n",
    "from transformers import BlenderbotTokenizer, BlenderbotForConditionalGeneration, BlenderbotConfig\n",
    "\n",
    "add_paths = ['nlp_suite/chatbot/style_transfer_paraphrase', 'nlp_suite/chatbot/style_transfer_paraphrase/style_paraphrase']\n",
    "for add_path in add_paths: \n",
    "    if add_path not in sys.path: sys.path.append(add_path)\n",
    "\n",
    "from nlp_suite import data_preprocessing\n",
    "from nlp_suite.chatbot.style_transfer_chatbot import StyleTransferChatbot"
   ]
  },
  {
   "cell_type": "code",
   "execution_count": 3,
   "metadata": {
    "ExecuteTime": {
     "end_time": "2021-05-06T20:09:35.133745Z",
     "start_time": "2021-05-06T20:08:52.293454Z"
    }
   },
   "outputs": [],
   "source": [
    "############################ PRE-SETUP ##########################\n",
    "##################################################################################\n",
    "# Setup (ie setting options, loading data, models, etc) that can be done beforehand,\n",
    "# agnostic to the user input data, goes here.\n",
    "\n",
    "# loading chatbot model\n",
    "blenderbot_chatbot_model = BlenderbotForConditionalGeneration.from_pretrained('facebook/blenderbot-400M-distill').to(\"cuda\")\n",
    "\n",
    "# silence tqdm\n",
    "from tqdm import tqdm\n",
    "from functools import partialmethod\n",
    "tqdm.__init__ = partialmethod(tqdm.__init__, disable=True)"
   ]
  },
  {
   "cell_type": "code",
   "execution_count": 4,
   "metadata": {
    "ExecuteTime": {
     "end_time": "2021-05-06T20:09:54.400367Z",
     "start_time": "2021-05-06T20:09:54.361739Z"
    }
   },
   "outputs": [],
   "source": [
    "def process_inputs(button_instance):\n",
    "    print(\"Processing...\")\n",
    "    temp_files_dir = \"./dashboard_temp_files\"\n",
    "    global user_name\n",
    "    user_name = user_name_widget.value\n",
    "    \n",
    "    if user_name != \"\" and uploader_widget.value != {}:\n",
    "        # prepping an empty temp folder to hold uploaded data\n",
    "        if os.path.exists(temp_files_dir):\n",
    "            shutil.rmtree(temp_files_dir)\n",
    "        os.makedirs(temp_files_dir)\n",
    "        \n",
    "        # saving uploaded zip\n",
    "        uploaded_file_path = os.path.join(temp_files_dir, \"saved-output.zip\")\n",
    "        with open(uploaded_file_path, \"wb\") as f:\n",
    "            content = (uploader_widget.value[list(uploader_widget.value.keys())[0]])[\"content\"]\n",
    "            f.write(content)\n",
    "            \n",
    "        # unzipping\n",
    "        with zipfile.ZipFile(uploaded_file_path, 'r') as zip_ref:\n",
    "            zip_ref.extractall(temp_files_dir)\n",
    "        os.remove(uploaded_file_path)\n",
    "        \n",
    "        # extracting user's messages from text files\n",
    "        discord_log_paths = [str(path) for path in list(Path(temp_files_dir).rglob('*.txt'))]\n",
    "        channel_messages, _ = data_preprocessing.process_discord_data(discord_log_paths, 3)\n",
    "        \n",
    "        # saving user messages in cache \n",
    "        if user_name in channel_messages:\n",
    "            cached_user_data_dir = os.path.join(\"cached_user_data\", user_name)\n",
    "            os.makedirs(cached_user_data_dir, exist_ok=True)\n",
    "            user_messages_path = os.path.join(cached_user_data_dir, \"user_messages.p\")\n",
    "            pickle.dump(channel_messages[user_name], open(user_messages_path, \"wb\"))\n",
    "            global user_messages\n",
    "            user_messages = pickle.load(open(user_messages_path, \"rb\"))\n",
    "            print(\"Data processing finished.\")\n",
    "        else:\n",
    "            print(\"Data processing failed -- couldn't find user {} in chat logs.\".format(user_name))\n",
    "    else:\n",
    "        print(\"Data processing failed -- missing username or chat log.\")\n",
    "        "
   ]
  },
  {
   "cell_type": "code",
   "execution_count": 5,
   "metadata": {
    "ExecuteTime": {
     "end_time": "2021-05-06T20:09:56.485499Z",
     "start_time": "2021-05-06T20:09:56.400465Z"
    }
   },
   "outputs": [
    {
     "name": "stdout",
     "output_type": "stream",
     "text": [
      "Please upload a zipped folder containing chat log file(s), and specify a user. \n",
      "Then, click the green button to start the data analysis.\n"
     ]
    },
    {
     "data": {
      "application/vnd.jupyter.widget-view+json": {
       "model_id": "3407f6a552e54978a97a9cbb13b5394e",
       "version_major": 2,
       "version_minor": 0
      },
      "text/plain": [
       "HBox(children=(FileUpload(value={}, accept='.zip', description='Upload Chat'), Text(value='', description='Use…"
      ]
     },
     "metadata": {},
     "output_type": "display_data"
    },
    {
     "data": {
      "application/vnd.jupyter.widget-view+json": {
       "model_id": "e8890aa4043345d2afebfa4aa970c988",
       "version_major": 2,
       "version_minor": 0
      },
      "text/plain": [
       "Button(button_style='success', description='Process Chat Data', style=ButtonStyle())"
      ]
     },
     "metadata": {},
     "output_type": "display_data"
    },
    {
     "name": "stdout",
     "output_type": "stream",
     "text": [
      "Processing...\n",
      "Data processing finished.\n"
     ]
    }
   ],
   "source": [
    "############################ USER DATA UPLOAD AND PROCESSING ##########################\n",
    "##################################################################################\n",
    "user_name = \"\"\n",
    "user_messages = None\n",
    "\n",
    "print(\"Please upload a zipped folder containing chat log file(s), and specify a user. \\nThen, click the green button to start the data analysis.\")\n",
    "uploader_widget = widgets.FileUpload(description=\"Upload Chat\", accept='.zip', multiple=False)\n",
    "user_name_widget = widgets.Text(description='User Name:', disabled=False)\n",
    "process_data_button_widget = widgets.Button(description='Process Chat Data', disabled=False, button_style='success')\n",
    "process_data_button_widget.on_click(process_inputs)\n",
    "\n",
    "display(HBox([uploader_widget, user_name_widget]))\n",
    "display(process_data_button_widget)"
   ]
  },
  {
   "cell_type": "code",
   "execution_count": 7,
   "metadata": {
    "ExecuteTime": {
     "end_time": "2021-05-06T20:10:23.801260Z",
     "start_time": "2021-05-06T20:10:23.766934Z"
    }
   },
   "outputs": [
    {
     "name": "stdout",
     "output_type": "stream",
     "text": [
      "muffins\n",
      "12391\n",
      "['Say... Why not have the bot just say the Welcome? Instead of you having to '\n",
      " \"do it every time, y'know? w\",\n",
      " 'Do you... have a macro for that?',\n",
      " 'Wait so... for the giveaway... Is it just chosen randomly?',\n",
      " 'Awh rip tryna rig it, eh?',\n",
      " 'Hheh... can I add one more to chur friends list?',\n",
      " 'Is that... squints... is that a tilde',\n",
      " 'Mhm... Chur doing a good job though',\n",
      " 'Exynos... I think he got it.',\n",
      " 'Woah... hello:D Is that... Mod?',\n",
      " 'I think you can do over 1k!',\n",
      " 'Plates are not good for smashing. Shards hurt:c',\n",
      " 'From this moment onward',\n",
      " 'I would like to be your informally obsessive psychiatrist helper person.',\n",
      " 'If you will accept me.',\n",
      " 'Alright... Hello @Victoria. How are you?',\n",
      " 'Aight. Anything bothering ya?',\n",
      " \"What's wrong with piano?\",\n",
      " \"That's a very edgy, doubtful time in a persons lifu.\",\n",
      " \"It's kinda edgy... y'know?\",\n",
      " 'For most people... I think.',\n",
      " 'What command for that one:3',\n",
      " 'Ah... Daddy we needchu now get outta erp',\n",
      " \"Is it cuz' chu wanna slide you fingers under my dress, hhuh...?\",\n",
      " 'I can do erp... mmaybe...',\n",
      " 'I do a lot of normal rp, but... Maybe a chance of... pace...:3']\n"
     ]
    }
   ],
   "source": [
    "print(user_name)\n",
    "print(len(user_messages))\n",
    "pprint.pprint(user_messages[:25])"
   ]
  },
  {
   "cell_type": "code",
   "execution_count": 9,
   "metadata": {
    "ExecuteTime": {
     "end_time": "2021-05-06T20:12:11.847652Z",
     "start_time": "2021-05-06T20:10:44.617366Z"
    },
    "scrolled": false
   },
   "outputs": [
    {
     "name": "stderr",
     "output_type": "stream",
     "text": [
      "[nltk_data] Downloading package punkt to /root/nltk_data...\n",
      "[nltk_data]   Package punkt is already up-to-date!\n"
     ]
    },
    {
     "data": {
      "application/vnd.jupyter.widget-view+json": {
       "model_id": "1982dd4fada544c79c4d0a76908215bc",
       "version_major": 2,
       "version_minor": 0
      },
      "text/plain": [
       "HBox(children=(interactive(children=(Text(value='', description='User Chat:'), Button(description='Submit Mess…"
      ]
     },
     "metadata": {},
     "output_type": "display_data"
    }
   ],
   "source": [
    "############################ CHATBOT ##########################\n",
    "###############################################################\n",
    "\n",
    "# NOTE: this takes about 1.5 mins to load. Not sure how to make faster\n",
    "style_model_dir = \"cached_user_data/{}/style_transfer_paraphrase_checkpoint\".format(user_name)\n",
    "chatbot = StyleTransferChatbot(style_model_dir, blenderbot_chatbot_model)\n",
    "chatbot_tokenizer = chatbot.tokenizer\n",
    "\n",
    "# messages seperator based on https://github.com/huggingface/transformers/issues/9365\n",
    "seperator = \"    \"\n",
    "all_conversation_text = \"\"\n",
    "max_position_embeddings = 128\n",
    "\n",
    "out = widgets.Output(layout={'border': '2px solid black', \"height\":\"400px\", \"width\":\"900px\",\"overflow\":'scroll'})\n",
    "\n",
    "@out.capture()\n",
    "def submit_to_chatbot(next_user_input=\"\"):\n",
    "    global all_conversation_text\n",
    "    \n",
    "    # adding user input to conversation text\n",
    "    print(colored('> User', 'blue', attrs=[\"bold\"]) + \": {}\".format(next_user_input))\n",
    "    if all_conversation_text != \"\": \n",
    "        next_user_input = seperator + next_user_input\n",
    "    all_conversation_text += next_user_input\n",
    "    \n",
    "    # truncate token length if needed\n",
    "    curr_token_length = chatbot_tokenizer([all_conversation_text], return_tensors='pt')['input_ids'].shape[1]\n",
    "    while curr_token_length >= max_position_embeddings:\n",
    "        all_conversation_text = seperator.join(all_conversation_text.split(seperator)[1:])\n",
    "        curr_token_length = chatbot_tokenizer([all_conversation_text], return_tensors='pt')['input_ids'].shape[1]\n",
    "    \n",
    "    # get response\n",
    "    bot_stylized_response, bot_response = chatbot.get_response(all_conversation_text)\n",
    "    print(colored('> Bot (original)', 'green', attrs=[\"bold\"]) + \": {}\".format(bot_response))\n",
    "    print(colored('> Bot (stylized)', 'red', attrs=[\"bold\"]) + \": {}\".format(bot_stylized_response))\n",
    "    print(\"\")\n",
    "    all_conversation_text += seperator + bot_stylized_response  \n",
    "\n",
    "def restart(button_instance):\n",
    "    global all_conversation_text\n",
    "    all_conversation_text = \"\"\n",
    "    out.clear_output()\n",
    "\n",
    "button = widgets.Button(description='Restart Chat',disabled=False,button_style='')\n",
    "button.on_click(restart)\n",
    "\n",
    "text_box = widgets.Text(description=\"User Chat:\")\n",
    "text_input = interactive(submit_to_chatbot,{'manual': True, \"manual_name\":\"Submit Message\"}, next_user_input=text_box)\n",
    "left = VBox([out,button])\n",
    "display(HBox([text_input,left]))"
   ]
  },
  {
   "cell_type": "code",
   "execution_count": null,
   "metadata": {},
   "outputs": [],
   "source": []
  },
  {
   "cell_type": "code",
   "execution_count": null,
   "metadata": {},
   "outputs": [],
   "source": []
  },
  {
   "cell_type": "code",
   "execution_count": null,
   "metadata": {},
   "outputs": [],
   "source": []
  },
  {
   "cell_type": "code",
   "execution_count": null,
   "metadata": {},
   "outputs": [],
   "source": []
  }
 ],
 "metadata": {
  "kernelspec": {
   "display_name": "Python [conda env:standard] *",
   "language": "python",
   "name": "conda-env-standard-py"
  },
  "language_info": {
   "codemirror_mode": {
    "name": "ipython",
    "version": 3
   },
   "file_extension": ".py",
   "mimetype": "text/x-python",
   "name": "python",
   "nbconvert_exporter": "python",
   "pygments_lexer": "ipython3",
   "version": "3.6.9"
  }
 },
 "nbformat": 4,
 "nbformat_minor": 4
}
