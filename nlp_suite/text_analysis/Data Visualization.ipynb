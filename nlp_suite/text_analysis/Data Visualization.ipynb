{
 "cells": [
  {
   "cell_type": "code",
   "execution_count": 45,
   "metadata": {},
   "outputs": [
    {
     "name": "stdout",
     "output_type": "stream",
     "text": [
      "The autoreload extension is already loaded. To reload it, use:\n",
      "  %reload_ext autoreload\n"
     ]
    }
   ],
   "source": [
    "%load_ext autoreload\n",
    "%autoreload 2"
   ]
  },
  {
   "cell_type": "code",
   "execution_count": 46,
   "metadata": {},
   "outputs": [],
   "source": [
    "from preprocessing_copy import read_file, Sort_by_user\n",
    "from text_analysis import frequency_info, generate_word_cloud, plot_sentence_length_histogram\n",
    "import os\n",
    "import pickle\n",
    "import ipywidgets as widget\n",
    "import itertools as it"
   ]
  },
  {
   "cell_type": "code",
   "execution_count": 3,
   "metadata": {},
   "outputs": [],
   "source": [
    "files = [os.path.join(dirname, filename) for dirname, _, filenames in os.walk(\"discord-v3\") \\\n",
    "            for filename in filenames if filename.endswith('.txt')]"
   ]
  },
  {
   "cell_type": "code",
   "execution_count": 4,
   "metadata": {},
   "outputs": [
    {
     "data": {
      "text/plain": [
       "['discord-v3\\\\[298954459172700181] [part 10].txt',\n",
       " 'discord-v3\\\\[298954459172700181] [part 11].txt',\n",
       " 'discord-v3\\\\[298954459172700181] [part 12].txt',\n",
       " 'discord-v3\\\\[298954459172700181] [part 13].txt',\n",
       " 'discord-v3\\\\[298954459172700181] [part 2].txt']"
      ]
     },
     "execution_count": 4,
     "metadata": {},
     "output_type": "execute_result"
    }
   ],
   "source": [
    "files[:5]    "
   ]
  },
  {
   "cell_type": "code",
   "execution_count": 5,
   "metadata": {},
   "outputs": [],
   "source": [
    "test_file = read_file(files[3])"
   ]
  },
  {
   "cell_type": "code",
   "execution_count": 6,
   "metadata": {},
   "outputs": [],
   "source": [
    "discord_chat = Sort_by_user(test_file)"
   ]
  },
  {
   "cell_type": "code",
   "execution_count": 47,
   "metadata": {},
   "outputs": [],
   "source": [
    "user_chat_df = pickle.load(open('user_chat_dataframe.pkl', 'rb'))"
   ]
  },
  {
   "cell_type": "code",
   "execution_count": 48,
   "metadata": {},
   "outputs": [
    {
     "name": "stdout",
     "output_type": "stream",
     "text": [
      "The most frequent speakers in this discord server are: Rufina, Wadsworth, Fabrin, Mesics, Romona\n",
      " with more than 231451 messages exchanged for each person\n",
      "\n",
      "muffins  is number 76 frequent user in the server, with total 46620 messages\n"
     ]
    }
   ],
   "source": [
    "a = frequency_info(user_chat_df, Username='muffins ')"
   ]
  },
  {
   "cell_type": "code",
   "execution_count": null,
   "metadata": {},
   "outputs": [],
   "source": [
    "generate_word_cloud(user_chat_df, title = 'Discord Server')"
   ]
  },
  {
   "cell_type": "code",
   "execution_count": 34,
   "metadata": {},
   "outputs": [],
   "source": [
    "import nltk\n",
    "import pandas as pd\n"
   ]
  },
  {
   "cell_type": "code",
   "execution_count": 51,
   "metadata": {},
   "outputs": [],
   "source": [
    "test = pd.Series(it.chain(*user_chat_df['Chats'][:10000]))"
   ]
  },
  {
   "cell_type": "code",
   "execution_count": 41,
   "metadata": {},
   "outputs": [
    {
     "data": {
      "text/plain": [
       "101258"
      ]
     },
     "execution_count": 41,
     "metadata": {},
     "output_type": "execute_result"
    }
   ],
   "source": [
    "len(user_chat_df)"
   ]
  },
  {
   "cell_type": "code",
   "execution_count": 40,
   "metadata": {},
   "outputs": [
    {
     "name": "stdout",
     "output_type": "stream",
     "text": [
      "Wall time: 1min 8s\n"
     ]
    },
    {
     "data": {
      "text/plain": [
       "0                              [FEMBOYS, ARE, THE, GREATEST]\n",
       "1                                      [OW, STOMACH, CRAMPS]\n",
       "2                                                 [yo, Monx]\n",
       "3                  [how, tf, you, handle, period, cramps, ?]\n",
       "4          [I, 'm, not, having, the, same, thing, ofc, ,,...\n",
       "                                 ...                        \n",
       "1180407                                                [HEY]\n",
       "1180408                                                 [NO]\n",
       "1180409                                              [hello]\n",
       "1180410                                 [GUYS, UR, SPAMMING]\n",
       "1180411                [786257483102552116, dm, advertising]\n",
       "Length: 1180412, dtype: object"
      ]
     },
     "execution_count": 40,
     "metadata": {},
     "output_type": "execute_result"
    }
   ],
   "source": [
    "%%time\n",
    "test.apply(nltk.word_tokenize)"
   ]
  },
  {
   "cell_type": "code",
   "execution_count": null,
   "metadata": {},
   "outputs": [],
   "source": [
    "User_dict = {'VC': discord_chat['VC']}\n",
    "generate_word_cloud(User_dict, title = 'VC')"
   ]
  },
  {
   "cell_type": "code",
   "execution_count": null,
   "metadata": {},
   "outputs": [],
   "source": []
  },
  {
   "cell_type": "code",
   "execution_count": null,
   "metadata": {},
   "outputs": [],
   "source": [
    "plot_sentence_length_histogram(discord_chat, title = 'Discord Server')\n",
    "plot_sentence_length_histogram(User_dict, title = 'VC', color = '#faaff6')"
   ]
  },
  {
   "cell_type": "code",
   "execution_count": 42,
   "metadata": {},
   "outputs": [],
   "source": [
    "import re\n",
    "WORD = re.compile(r'\\w+')\n",
    "def regTokenize(text):\n",
    "    words = WORD.findall(text)\n",
    "    return words"
   ]
  },
  {
   "cell_type": "code",
   "execution_count": 43,
   "metadata": {},
   "outputs": [
    {
     "data": {
      "text/plain": [
       "['hello', 'its', 'me']"
      ]
     },
     "execution_count": 43,
     "metadata": {},
     "output_type": "execute_result"
    }
   ],
   "source": [
    "regTokenize('hello, its me')"
   ]
  },
  {
   "cell_type": "code",
   "execution_count": 52,
   "metadata": {},
   "outputs": [
    {
     "name": "stdout",
     "output_type": "stream",
     "text": [
      "Wall time: 2min 2s\n"
     ]
    },
    {
     "data": {
      "text/plain": [
       "0                               [FEMBOYS, ARE, THE, GREATEST]\n",
       "1                                       [OW, STOMACH, CRAMPS]\n",
       "2                                                  [yo, Monx]\n",
       "3                      [how, tf, you, handle, period, cramps]\n",
       "4           [I, m, not, having, the, same, thing, ofc, but...\n",
       "                                  ...                        \n",
       "12025195                                              [No, u]\n",
       "12025196                                                 [No]\n",
       "12025197                        [Just, Black, Desert, Online]\n",
       "12025198          [I, was, on, the, Discord, Stand, Gamescom]\n",
       "12025199    [When, I, m, home, I, can, activate, one, mont...\n",
       "Length: 12025200, dtype: object"
      ]
     },
     "execution_count": 52,
     "metadata": {},
     "output_type": "execute_result"
    }
   ],
   "source": [
    "%%time\n",
    "test.apply(regTokenize)"
   ]
  },
  {
   "cell_type": "code",
   "execution_count": null,
   "metadata": {},
   "outputs": [],
   "source": []
  }
 ],
 "metadata": {
  "kernelspec": {
   "display_name": "Python 3",
   "language": "python",
   "name": "python3"
  },
  "language_info": {
   "codemirror_mode": {
    "name": "ipython",
    "version": 3
   },
   "file_extension": ".py",
   "mimetype": "text/x-python",
   "name": "python",
   "nbconvert_exporter": "python",
   "pygments_lexer": "ipython3",
   "version": "3.8.5"
  }
 },
 "nbformat": 4,
 "nbformat_minor": 4
}
