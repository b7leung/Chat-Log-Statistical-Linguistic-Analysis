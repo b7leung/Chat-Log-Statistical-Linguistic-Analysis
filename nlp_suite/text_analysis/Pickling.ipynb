{
 "cells": [
  {
   "cell_type": "code",
   "execution_count": 1,
   "metadata": {},
   "outputs": [],
   "source": [
    "%load_ext autoreload\n",
    "%autoreload 2"
   ]
  },
  {
   "cell_type": "code",
   "execution_count": 2,
   "metadata": {},
   "outputs": [],
   "source": [
    "import pickle\n",
    "import ipywidgets as widgets\n",
    "from text_analysis_kevin import *\n",
    "import itertools as it\n",
    "import pandas as pd\n",
    "import os, errno"
   ]
  },
  {
   "cell_type": "code",
   "execution_count": 3,
   "metadata": {},
   "outputs": [],
   "source": [
    "user_df = pickle.load(open('user_chat_dataframe.pkl', 'rb'))"
   ]
  },
  {
   "cell_type": "code",
   "execution_count": 4,
   "metadata": {},
   "outputs": [
    {
     "name": "stderr",
     "output_type": "stream",
     "text": [
      "C:\\Users\\Haoro\\anaconda3\\lib\\site-packages\\sklearn\\base.py:310: UserWarning: Trying to unpickle estimator MiniBatchKMeans from version 0.24.1 when using version 0.24.2. This might lead to breaking code or invalid results. Use at your own risk.\n",
      "  warnings.warn(\n"
     ]
    }
   ],
   "source": [
    "pkl_data = pickle.load(open('cluster_data.pkl', 'rb'))\n",
    "clusters, labels, pca = pkl_data['clusters'], pkl_data['labels'], pkl_data['pca']\n",
    "# = pickle.load(open('encoder.pkl', 'rb'))\n",
    "#encodings = pickle.load(open('encodings.pkl', 'rb'))"
   ]
  },
  {
   "cell_type": "code",
   "execution_count": 5,
   "metadata": {},
   "outputs": [
    {
     "data": {
      "text/html": [
       "<div>\n",
       "<style scoped>\n",
       "    .dataframe tbody tr th:only-of-type {\n",
       "        vertical-align: middle;\n",
       "    }\n",
       "\n",
       "    .dataframe tbody tr th {\n",
       "        vertical-align: top;\n",
       "    }\n",
       "\n",
       "    .dataframe thead th {\n",
       "        text-align: right;\n",
       "    }\n",
       "</style>\n",
       "<table border=\"1\" class=\"dataframe\">\n",
       "  <thead>\n",
       "    <tr style=\"text-align: right;\">\n",
       "      <th></th>\n",
       "      <th>User</th>\n",
       "      <th>Chats</th>\n",
       "    </tr>\n",
       "  </thead>\n",
       "  <tbody>\n",
       "    <tr>\n",
       "      <th>0</th>\n",
       "      <td>SatoshiUSA</td>\n",
       "      <td>[ FEMBOYS ARE THE GREATEST, OW STOMACH CRAMPS,...</td>\n",
       "    </tr>\n",
       "    <tr>\n",
       "      <th>1</th>\n",
       "      <td>AWOOO</td>\n",
       "      <td>[ inhales, guess I need to hide my gender agai...</td>\n",
       "    </tr>\n",
       "    <tr>\n",
       "      <th>2</th>\n",
       "      <td>fy</td>\n",
       "      <td>[ pain, lay warm pad on ur tummy, yes, eat, ea...</td>\n",
       "    </tr>\n",
       "    <tr>\n",
       "      <th>3</th>\n",
       "      <td>Monxter</td>\n",
       "      <td>[ I dont get them as much but I just drink pil...</td>\n",
       "    </tr>\n",
       "    <tr>\n",
       "      <th>4</th>\n",
       "      <td>c</td>\n",
       "      <td>[, , , , , , , , , lets not spam blush emotes,...</td>\n",
       "    </tr>\n",
       "    <tr>\n",
       "      <th>...</th>\n",
       "      <td>...</td>\n",
       "      <td>...</td>\n",
       "    </tr>\n",
       "    <tr>\n",
       "      <th>473171</th>\n",
       "      <td>Omar90</td>\n",
       "      <td>[ Wassap, Hows life people, What, Yea any prob...</td>\n",
       "    </tr>\n",
       "    <tr>\n",
       "      <th>473174</th>\n",
       "      <td>Michal39CZSK</td>\n",
       "      <td>[ Sax wab cam?, PivaZe 1,2,3?, Goo in lobby pl...</td>\n",
       "    </tr>\n",
       "    <tr>\n",
       "      <th>473176</th>\n",
       "      <td>cybergloc</td>\n",
       "      <td>[ Heyy, :neutral_face:, I wanna be choked :swe...</td>\n",
       "    </tr>\n",
       "    <tr>\n",
       "      <th>473178</th>\n",
       "      <td>aveeno</td>\n",
       "      <td>[ unmute dogs, dog, tony, r u bad, ill choke y...</td>\n",
       "    </tr>\n",
       "    <tr>\n",
       "      <th>473186</th>\n",
       "      <td>Bryxn.tt</td>\n",
       "      <td>[ Hey guys, I'm new here, :rofl::rofl::rofl::r...</td>\n",
       "    </tr>\n",
       "  </tbody>\n",
       "</table>\n",
       "<p>101258 rows × 2 columns</p>\n",
       "</div>"
      ],
      "text/plain": [
       "                User                                              Chats\n",
       "0         SatoshiUSA  [ FEMBOYS ARE THE GREATEST, OW STOMACH CRAMPS,...\n",
       "1              AWOOO  [ inhales, guess I need to hide my gender agai...\n",
       "2                 fy  [ pain, lay warm pad on ur tummy, yes, eat, ea...\n",
       "3            Monxter  [ I dont get them as much but I just drink pil...\n",
       "4                  c  [, , , , , , , , , lets not spam blush emotes,...\n",
       "...              ...                                                ...\n",
       "473171        Omar90  [ Wassap, Hows life people, What, Yea any prob...\n",
       "473174  Michal39CZSK  [ Sax wab cam?, PivaZe 1,2,3?, Goo in lobby pl...\n",
       "473176     cybergloc  [ Heyy, :neutral_face:, I wanna be choked :swe...\n",
       "473178        aveeno  [ unmute dogs, dog, tony, r u bad, ill choke y...\n",
       "473186      Bryxn.tt  [ Hey guys, I'm new here, :rofl::rofl::rofl::r...\n",
       "\n",
       "[101258 rows x 2 columns]"
      ]
     },
     "execution_count": 5,
     "metadata": {},
     "output_type": "execute_result"
    }
   ],
   "source": [
    "user_df"
   ]
  },
  {
   "cell_type": "code",
   "execution_count": 6,
   "metadata": {},
   "outputs": [],
   "source": [
    "cluster_dd = widgets.Dropdown(\n",
    "                options=[(f'Cluster {i}', i) for i in range(max(labels)+1)],\n",
    "                value=0,\n",
    "                description='Cluster:',\n",
    "            )"
   ]
  },
  {
   "cell_type": "code",
   "execution_count": 7,
   "metadata": {},
   "outputs": [
    {
     "data": {
      "text/plain": [
       "{0, 1, 2, 3, 4}"
      ]
     },
     "execution_count": 7,
     "metadata": {},
     "output_type": "execute_result"
    }
   ],
   "source": [
    "set(labels)"
   ]
  },
  {
   "cell_type": "code",
   "execution_count": 8,
   "metadata": {},
   "outputs": [],
   "source": [
    "args = 'message_lengths,average_word_lengths,stop_dic,unigrams,bigrams,trigrams,wordcloud'\n",
    "args = args.split(',')"
   ]
  },
  {
   "cell_type": "code",
   "execution_count": 9,
   "metadata": {},
   "outputs": [
    {
     "name": "stderr",
     "output_type": "stream",
     "text": [
      "C:\\Users\\Haoro\\anaconda3\\lib\\site-packages\\numpy\\core\\fromnumeric.py:3372: RuntimeWarning: Mean of empty slice.\n",
      "  return _methods._mean(a, axis=axis, dtype=dtype,\n",
      "C:\\Users\\Haoro\\anaconda3\\lib\\site-packages\\numpy\\core\\_methods.py:170: RuntimeWarning: invalid value encountered in double_scalars\n",
      "  ret = ret.dtype.type(ret / rcount)\n"
     ]
    }
   ],
   "source": [
    "for i in range(len(set(labels))-1):\n",
    "    try:  \n",
    "        os.makedirs('cluster{}'.format(i))\n",
    "    except OSError as e:\n",
    "        if e.errno != errno.EEXIST:\n",
    "            raise\n",
    "    \n",
    "    cluster_df= user_df.iloc[labels == i]\n",
    "    text_analysis = get_cluster_analysis(cluster_df)\n",
    "    analysis_dict = dict(zip(args, text_analysis))\n",
    "    with open('cluster{}/analysis_dict'.format(i), 'wb') as f:\n",
    "        pickle.dump(analysis_dict, f)"
   ]
  },
  {
   "cell_type": "code",
   "execution_count": null,
   "metadata": {},
   "outputs": [],
   "source": [
    "cluster_df= user_df.iloc[labels == 4]\n",
    "sampled_cluster = cluster_df.sample(frac = 0.05, random_state= 1)\n",
    "\n",
    "try:  \n",
    "    os.makedirs('cluster{}'.format(4))\n",
    "except OSError as e:\n",
    "    if e.errno != errno.EEXIST:\n",
    "        raise\n",
    "        \n",
    "text_analysis = get_cluster_analysis(sampled_cluster)\n",
    "analysis_dict = dict(zip(args, text_analysis))\n",
    "with open('cluster{}/analysis_dict'.format(i), 'wb') as f:\n",
    "    pickle.dump(analysis_dict, f)      \n"
   ]
  },
  {
   "cell_type": "code",
   "execution_count": 12,
   "metadata": {},
   "outputs": [],
   "source": [
    "a = pickle.load(open('cluster0/analysis_dict', 'rb'))"
   ]
  },
  {
   "cell_type": "code",
   "execution_count": null,
   "metadata": {},
   "outputs": [],
   "source": []
  }
 ],
 "metadata": {
  "kernelspec": {
   "display_name": "Python 3",
   "language": "python",
   "name": "python3"
  },
  "language_info": {
   "codemirror_mode": {
    "name": "ipython",
    "version": 3
   },
   "file_extension": ".py",
   "mimetype": "text/x-python",
   "name": "python",
   "nbconvert_exporter": "python",
   "pygments_lexer": "ipython3",
   "version": "3.8.5"
  }
 },
 "nbformat": 4,
 "nbformat_minor": 4
}
