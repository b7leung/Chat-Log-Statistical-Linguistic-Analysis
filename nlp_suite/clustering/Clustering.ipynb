{
 "cells": [
  {
   "cell_type": "code",
   "execution_count": 15,
   "id": "75fffe72",
   "metadata": {},
   "outputs": [],
   "source": [
    "import pandas as pd\n",
    "import numpy as np\n",
    "import pickle\n",
    "import plotly.graph_objs as go\n",
    "import ipywidgets as widgets\n",
    "from IPython.display import display\n",
    "\n",
    "from utils import plot_3d_clusters, classify_text"
   ]
  },
  {
   "cell_type": "code",
   "execution_count": 16,
   "id": "83cd72d0",
   "metadata": {},
   "outputs": [
    {
     "name": "stdout",
     "output_type": "stream",
     "text": [
      "The autoreload extension is already loaded. To reload it, use:\n",
      "  %reload_ext autoreload\n"
     ]
    }
   ],
   "source": [
    "%load_ext autoreload\n",
    "%autoreload 2"
   ]
  },
  {
   "cell_type": "code",
   "execution_count": 3,
   "id": "7c94ca2f",
   "metadata": {},
   "outputs": [],
   "source": [
    "user_chat_df = pickle.load(open('user_chat_dataframe.pkl', 'rb'))\n",
    "pkl_data = pickle.load(open('cluster_data.pkl', 'rb'))\n",
    "clusters, labels, pca = pkl_data['clusters'], pkl_data['labels'], pkl_data['pca']\n",
    "pkl_data = pickle.load(open('encoded_data.pkl', 'rb'))\n",
    "vectorizer, encodings = pkl_data['vectorizer'], pkl_data['encodings']"
   ]
  },
  {
   "cell_type": "code",
   "execution_count": 21,
   "id": "b68bab12",
   "metadata": {},
   "outputs": [],
   "source": [
    "fig = plot_3d_clusters(pca, labels, max_points=50000)"
   ]
  },
  {
   "cell_type": "code",
   "execution_count": 22,
   "id": "73fcd184",
   "metadata": {},
   "outputs": [],
   "source": [
    "cluster_dd = widgets.Dropdown(\n",
    "                options=[(f'Cluster {i}', i) for i in range(max(labels)+1)],\n",
    "                value=0,\n",
    "                description='Cluster:',\n",
    "            )\n",
    "\n",
    "def on_click(trace, points, state):\n",
    "    cluster_dd.value = int(trace.marker.color[points.point_inds[0]])\n",
    "    \n",
    "fig.data[0].on_click(on_click)\n"
   ]
  },
  {
   "cell_type": "code",
   "execution_count": 11,
   "id": "230b475c",
   "metadata": {},
   "outputs": [
    {
     "data": {
      "application/vnd.jupyter.widget-view+json": {
       "model_id": "5ccb9a0a6beb49598db51e8c743119be",
       "version_major": 2,
       "version_minor": 0
      },
      "text/plain": [
       "FigureWidget({\n",
       "    'data': [{'hoverinfo': 'text',\n",
       "              'marker': {'color': array([2, 4, 2, ..., 2, 4,…"
      ]
     },
     "metadata": {},
     "output_type": "display_data"
    }
   ],
   "source": [
    "fig"
   ]
  },
  {
   "cell_type": "code",
   "execution_count": null,
   "id": "19be6f48",
   "metadata": {},
   "outputs": [],
   "source": [
    "display(cluster_dd)"
   ]
  },
  {
   "cell_type": "code",
   "execution_count": 23,
   "id": "cfd43b03",
   "metadata": {},
   "outputs": [
    {
     "data": {
      "application/vnd.jupyter.widget-view+json": {
       "model_id": "4909e9c1e2e94314961e357e686bc364",
       "version_major": 2,
       "version_minor": 0
      },
      "text/plain": [
       "VBox(children=(FigureWidget({\n",
       "    'data': [{'hoverinfo': 'text',\n",
       "              'marker': {'color': array([4, 4…"
      ]
     },
     "metadata": {},
     "output_type": "display_data"
    }
   ],
   "source": [
    "combined = widgets.VBox([fig, cluster_dd])\n",
    "display(combined)"
   ]
  },
  {
   "cell_type": "code",
   "execution_count": 8,
   "id": "b15dce33",
   "metadata": {},
   "outputs": [
    {
     "data": {
      "text/plain": [
       "array([1, 5, 2])"
      ]
     },
     "execution_count": 8,
     "metadata": {},
     "output_type": "execute_result"
    }
   ],
   "source": [
    "#Example of how to classify new text\n",
    "classify_text(vectorizer, clusters, ['Ok I am not sure what is going on', \n",
    "                                     'Over the course of a match, champions gain levels by accruing experience points (XP) through killing enemies',\n",
    "                                     'what are you guys talking about️'\n",
    "                                    ])"
   ]
  },
  {
   "cell_type": "code",
   "execution_count": 21,
   "id": "3ba0981b",
   "metadata": {},
   "outputs": [
    {
     "data": {
      "text/html": [
       "<div>\n",
       "<style scoped>\n",
       "    .dataframe tbody tr th:only-of-type {\n",
       "        vertical-align: middle;\n",
       "    }\n",
       "\n",
       "    .dataframe tbody tr th {\n",
       "        vertical-align: top;\n",
       "    }\n",
       "\n",
       "    .dataframe thead th {\n",
       "        text-align: right;\n",
       "    }\n",
       "</style>\n",
       "<table border=\"1\" class=\"dataframe\">\n",
       "  <thead>\n",
       "    <tr style=\"text-align: right;\">\n",
       "      <th></th>\n",
       "      <th>User</th>\n",
       "      <th>Chats</th>\n",
       "    </tr>\n",
       "  </thead>\n",
       "  <tbody>\n",
       "    <tr>\n",
       "      <th>0</th>\n",
       "      <td>SatoshiUSA</td>\n",
       "      <td>[ FEMBOYS ARE THE GREATEST, OW STOMACH CRAMPS,...</td>\n",
       "    </tr>\n",
       "    <tr>\n",
       "      <th>1</th>\n",
       "      <td>AWOOO</td>\n",
       "      <td>[ inhales, guess I need to hide my gender agai...</td>\n",
       "    </tr>\n",
       "    <tr>\n",
       "      <th>2</th>\n",
       "      <td>fy</td>\n",
       "      <td>[ pain, lay warm pad on ur tummy, yes, eat, ea...</td>\n",
       "    </tr>\n",
       "    <tr>\n",
       "      <th>3</th>\n",
       "      <td>Monxter</td>\n",
       "      <td>[ I dont get them as much but I just drink pil...</td>\n",
       "    </tr>\n",
       "    <tr>\n",
       "      <th>4</th>\n",
       "      <td>c</td>\n",
       "      <td>[, , , , , , , , , lets not spam blush emotes,...</td>\n",
       "    </tr>\n",
       "    <tr>\n",
       "      <th>...</th>\n",
       "      <td>...</td>\n",
       "      <td>...</td>\n",
       "    </tr>\n",
       "    <tr>\n",
       "      <th>473051</th>\n",
       "      <td>tommywommybommy</td>\n",
       "      <td>[ hey 33 whats up, heyyo world: u seem chill, ...</td>\n",
       "    </tr>\n",
       "    <tr>\n",
       "      <th>473056</th>\n",
       "      <td>Ultimatewizard</td>\n",
       "      <td>[ Hmmm, Ayyye, Indigo, Supp mA boi, Uk the usu...</td>\n",
       "    </tr>\n",
       "    <tr>\n",
       "      <th>473105</th>\n",
       "      <td>JayV</td>\n",
       "      <td>[ wanna talk, @Violette, wazzzup, how do i hug...</td>\n",
       "    </tr>\n",
       "    <tr>\n",
       "      <th>473107</th>\n",
       "      <td>FROOPY NOOPS</td>\n",
       "      <td>[ Wyd baby, Idk anyone here but baby china, Sh...</td>\n",
       "    </tr>\n",
       "    <tr>\n",
       "      <th>473127</th>\n",
       "      <td>Norseman</td>\n",
       "      <td>[ Congrats Tina, For me 201820 was a good set ...</td>\n",
       "    </tr>\n",
       "  </tbody>\n",
       "</table>\n",
       "<p>31554 rows × 2 columns</p>\n",
       "</div>"
      ],
      "text/plain": [
       "                   User                                              Chats\n",
       "0            SatoshiUSA  [ FEMBOYS ARE THE GREATEST, OW STOMACH CRAMPS,...\n",
       "1                 AWOOO  [ inhales, guess I need to hide my gender agai...\n",
       "2                    fy  [ pain, lay warm pad on ur tummy, yes, eat, ea...\n",
       "3               Monxter  [ I dont get them as much but I just drink pil...\n",
       "4                     c  [, , , , , , , , , lets not spam blush emotes,...\n",
       "...                 ...                                                ...\n",
       "473051  tommywommybommy  [ hey 33 whats up, heyyo world: u seem chill, ...\n",
       "473056   Ultimatewizard  [ Hmmm, Ayyye, Indigo, Supp mA boi, Uk the usu...\n",
       "473105             JayV  [ wanna talk, @Violette, wazzzup, how do i hug...\n",
       "473107     FROOPY NOOPS  [ Wyd baby, Idk anyone here but baby china, Sh...\n",
       "473127         Norseman  [ Congrats Tina, For me 201820 was a good set ...\n",
       "\n",
       "[31554 rows x 2 columns]"
      ]
     },
     "execution_count": 21,
     "metadata": {},
     "output_type": "execute_result"
    }
   ],
   "source": [
    "user_chat_df.loc[labels == cluster_dd.value]"
   ]
  },
  {
   "cell_type": "code",
   "execution_count": 20,
   "id": "c5f1adb6",
   "metadata": {},
   "outputs": [
    {
     "data": {
      "text/html": [
       "<div>\n",
       "<style scoped>\n",
       "    .dataframe tbody tr th:only-of-type {\n",
       "        vertical-align: middle;\n",
       "    }\n",
       "\n",
       "    .dataframe tbody tr th {\n",
       "        vertical-align: top;\n",
       "    }\n",
       "\n",
       "    .dataframe thead th {\n",
       "        text-align: right;\n",
       "    }\n",
       "</style>\n",
       "<table border=\"1\" class=\"dataframe\">\n",
       "  <thead>\n",
       "    <tr style=\"text-align: right;\">\n",
       "      <th></th>\n",
       "      <th>User</th>\n",
       "      <th>Chats</th>\n",
       "    </tr>\n",
       "  </thead>\n",
       "  <tbody>\n",
       "    <tr>\n",
       "      <th>3937</th>\n",
       "      <td>muffins</td>\n",
       "      <td>[ Oh., Guess... I'm back..., And none's here.....</td>\n",
       "    </tr>\n",
       "  </tbody>\n",
       "</table>\n",
       "</div>"
      ],
      "text/plain": [
       "          User                                              Chats\n",
       "3937  muffins   [ Oh., Guess... I'm back..., And none's here....."
      ]
     },
     "execution_count": 20,
     "metadata": {},
     "output_type": "execute_result"
    }
   ],
   "source": [
    "user_chat_df[user_chat_df['User'] == 'muffins ']"
   ]
  },
  {
   "cell_type": "code",
   "execution_count": null,
   "id": "aceffdea",
   "metadata": {},
   "outputs": [],
   "source": []
  }
 ],
 "metadata": {
  "kernelspec": {
   "display_name": "Python [conda env:.conda-ece229] *",
   "language": "python",
   "name": "conda-env-.conda-ece229-py"
  },
  "language_info": {
   "codemirror_mode": {
    "name": "ipython",
    "version": 3
   },
   "file_extension": ".py",
   "mimetype": "text/x-python",
   "name": "python",
   "nbconvert_exporter": "python",
   "pygments_lexer": "ipython3",
   "version": "3.7.9"
  }
 },
 "nbformat": 4,
 "nbformat_minor": 5
}
