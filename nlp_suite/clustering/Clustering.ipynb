{
 "cells": [
  {
   "cell_type": "code",
   "execution_count": 1,
   "id": "87ffef68",
   "metadata": {},
   "outputs": [],
   "source": [
    "import pandas as pd\n",
    "import numpy as np\n",
    "import pickle\n",
    "import plotly.graph_objs as go\n",
    "import ipywidgets as widgets\n",
    "from IPython.display import display\n",
    "\n",
    "from utils import plot_3d_clusters, classify_text"
   ]
  },
  {
   "cell_type": "code",
   "execution_count": 2,
   "id": "b05fa283",
   "metadata": {},
   "outputs": [],
   "source": [
    "%load_ext autoreload\n",
    "%autoreload 2"
   ]
  },
  {
   "cell_type": "code",
   "execution_count": 11,
   "id": "68bfdf6f",
   "metadata": {},
   "outputs": [],
   "source": [
    "# user_chat_df = pickle.load(open('user_chat_dataframe.pkl', 'rb'))\n",
    "pkl_data = pickle.load(open('cluster_data.pkl', 'rb'))\n",
    "clusters, labels, pca = pkl_data['clusters'], pkl_data['labels'], pkl_data['pca']\n",
    "vectorizer = pickle.load(open('encoder.pkl', 'rb'))\n",
    "encodings = pickle.load(open('encodings.pkl', 'rb'))"
   ]
  },
  {
   "cell_type": "code",
   "execution_count": 12,
   "id": "85f2f236",
   "metadata": {},
   "outputs": [],
   "source": [
    "fig = plot_3d_clusters(pca, labels, max_points=50000)"
   ]
  },
  {
   "cell_type": "code",
   "execution_count": 13,
   "id": "b0c2f17e",
   "metadata": {},
   "outputs": [],
   "source": [
    "cluster_dd = widgets.Dropdown(\n",
    "                options=[(f'Cluster {i}', i) for i in range(max(labels)+1)],\n",
    "                value=0,\n",
    "                description='Cluster:',\n",
    "            )\n",
    "\n",
    "def on_click(trace, points, state):\n",
    "    cluster_dd.value = int(trace.marker.color[points.point_inds[0]])\n",
    "    \n",
    "fig.data[0].on_click(on_click)\n"
   ]
  },
  {
   "cell_type": "code",
   "execution_count": 14,
   "id": "f072ceca",
   "metadata": {},
   "outputs": [
    {
     "data": {
      "application/vnd.jupyter.widget-view+json": {
       "model_id": "2f6d0d26590445e79ec7fb629760f0eb",
       "version_major": 2,
       "version_minor": 0
      },
      "text/plain": [
       "FigureWidget({\n",
       "    'data': [{'hoverinfo': 'text',\n",
       "              'marker': {'color': array([2, 3, 2, ..., 3, 2,…"
      ]
     },
     "metadata": {},
     "output_type": "display_data"
    }
   ],
   "source": [
    "fig"
   ]
  },
  {
   "cell_type": "code",
   "execution_count": null,
   "id": "83fb1f7d",
   "metadata": {},
   "outputs": [],
   "source": [
    "display(cluster_dd)"
   ]
  },
  {
   "cell_type": "code",
   "execution_count": 23,
   "id": "702e666e",
   "metadata": {},
   "outputs": [
    {
     "data": {
      "application/vnd.jupyter.widget-view+json": {
       "model_id": "4909e9c1e2e94314961e357e686bc364",
       "version_major": 2,
       "version_minor": 0
      },
      "text/plain": [
       "VBox(children=(FigureWidget({\n",
       "    'data': [{'hoverinfo': 'text',\n",
       "              'marker': {'color': array([4, 4…"
      ]
     },
     "metadata": {},
     "output_type": "display_data"
    }
   ],
   "source": [
    "combined = widgets.VBox([fig, cluster_dd])\n",
    "display(combined)"
   ]
  },
  {
   "cell_type": "code",
   "execution_count": 7,
   "id": "f799c107",
   "metadata": {},
   "outputs": [
    {
     "data": {
      "text/plain": [
       "array([3, 0, 3])"
      ]
     },
     "execution_count": 7,
     "metadata": {},
     "output_type": "execute_result"
    }
   ],
   "source": [
    "#Example of how to classify new text\n",
    "classify_text(vectorizer, clusters, ['Ok I am not sure what is going on', \n",
    "                                     'Over the course of a match, champions gain levels by accruing experience points (XP) through killing enemies',\n",
    "                                     'what are you guys talking about️'\n",
    "                                    ])"
   ]
  },
  {
   "cell_type": "code",
   "execution_count": 8,
   "id": "f2030c31",
   "metadata": {},
   "outputs": [
    {
     "data": {
      "text/html": [
       "<div>\n",
       "<style scoped>\n",
       "    .dataframe tbody tr th:only-of-type {\n",
       "        vertical-align: middle;\n",
       "    }\n",
       "\n",
       "    .dataframe tbody tr th {\n",
       "        vertical-align: top;\n",
       "    }\n",
       "\n",
       "    .dataframe thead th {\n",
       "        text-align: right;\n",
       "    }\n",
       "</style>\n",
       "<table border=\"1\" class=\"dataframe\">\n",
       "  <thead>\n",
       "    <tr style=\"text-align: right;\">\n",
       "      <th></th>\n",
       "      <th>User</th>\n",
       "      <th>Chats</th>\n",
       "    </tr>\n",
       "  </thead>\n",
       "  <tbody>\n",
       "    <tr>\n",
       "      <th>88</th>\n",
       "      <td>val</td>\n",
       "      <td>[ heyo, hihi, does anyone play yttd? your turn...</td>\n",
       "    </tr>\n",
       "    <tr>\n",
       "      <th>148</th>\n",
       "      <td>ryn</td>\n",
       "      <td>[ @ Rhya feliz navidad, wait what, sandwich?.....</td>\n",
       "    </tr>\n",
       "    <tr>\n",
       "      <th>197</th>\n",
       "      <td>Pocky</td>\n",
       "      <td>[ um.., hi.., hiii, hiii, im good., indeed, ok...</td>\n",
       "    </tr>\n",
       "    <tr>\n",
       "      <th>249</th>\n",
       "      <td>iloveyou,itsokay</td>\n",
       "      <td>[ Hi! I'm new:, Share, LMAO, Hello! I wasn't a...</td>\n",
       "    </tr>\n",
       "    <tr>\n",
       "      <th>255</th>\n",
       "      <td>mon</td>\n",
       "      <td>[ @dartaNan, good, welcome, tyy :smirk:, :ypde...</td>\n",
       "    </tr>\n",
       "    <tr>\n",
       "      <th>...</th>\n",
       "      <td>...</td>\n",
       "      <td>...</td>\n",
       "    </tr>\n",
       "    <tr>\n",
       "      <th>471409</th>\n",
       "      <td>Zal</td>\n",
       "      <td>[ Yahallo, Wew genshin, Welcome, :PIyaywelcome...</td>\n",
       "    </tr>\n",
       "    <tr>\n",
       "      <th>471577</th>\n",
       "      <td>Devalos Yuternal</td>\n",
       "      <td>[ Hmm, Hello, Hmm, Im i allowed to join the vc...</td>\n",
       "    </tr>\n",
       "    <tr>\n",
       "      <th>471606</th>\n",
       "      <td>moisescdls</td>\n",
       "      <td>[ :PIyay2:, Welcome, :PIdisgusted:, Elizabeth ...</td>\n",
       "    </tr>\n",
       "    <tr>\n",
       "      <th>471676</th>\n",
       "      <td>Dio brando</td>\n",
       "      <td>[ Hello, And welcome, Welcome @Dio brando, Wel...</td>\n",
       "    </tr>\n",
       "    <tr>\n",
       "      <th>471682</th>\n",
       "      <td>Uncle Death</td>\n",
       "      <td>[ hello, i need friends, im libra, hello stran...</td>\n",
       "    </tr>\n",
       "  </tbody>\n",
       "</table>\n",
       "<p>3798 rows × 2 columns</p>\n",
       "</div>"
      ],
      "text/plain": [
       "                    User                                              Chats\n",
       "88                   val  [ heyo, hihi, does anyone play yttd? your turn...\n",
       "148                  ryn  [ @ Rhya feliz navidad, wait what, sandwich?.....\n",
       "197                Pocky  [ um.., hi.., hiii, hiii, im good., indeed, ok...\n",
       "249     iloveyou,itsokay  [ Hi! I'm new:, Share, LMAO, Hello! I wasn't a...\n",
       "255                  mon  [ @dartaNan, good, welcome, tyy :smirk:, :ypde...\n",
       "...                  ...                                                ...\n",
       "471409               Zal  [ Yahallo, Wew genshin, Welcome, :PIyaywelcome...\n",
       "471577  Devalos Yuternal  [ Hmm, Hello, Hmm, Im i allowed to join the vc...\n",
       "471606        moisescdls  [ :PIyay2:, Welcome, :PIdisgusted:, Elizabeth ...\n",
       "471676        Dio brando  [ Hello, And welcome, Welcome @Dio brando, Wel...\n",
       "471682       Uncle Death  [ hello, i need friends, im libra, hello stran...\n",
       "\n",
       "[3798 rows x 2 columns]"
      ]
     },
     "execution_count": 8,
     "metadata": {},
     "output_type": "execute_result"
    }
   ],
   "source": [
    "user_chat_df.loc[labels == cluster_dd.value]"
   ]
  },
  {
   "cell_type": "code",
   "execution_count": 20,
   "id": "c882e8e8",
   "metadata": {},
   "outputs": [
    {
     "data": {
      "text/html": [
       "<div>\n",
       "<style scoped>\n",
       "    .dataframe tbody tr th:only-of-type {\n",
       "        vertical-align: middle;\n",
       "    }\n",
       "\n",
       "    .dataframe tbody tr th {\n",
       "        vertical-align: top;\n",
       "    }\n",
       "\n",
       "    .dataframe thead th {\n",
       "        text-align: right;\n",
       "    }\n",
       "</style>\n",
       "<table border=\"1\" class=\"dataframe\">\n",
       "  <thead>\n",
       "    <tr style=\"text-align: right;\">\n",
       "      <th></th>\n",
       "      <th>User</th>\n",
       "      <th>Chats</th>\n",
       "    </tr>\n",
       "  </thead>\n",
       "  <tbody>\n",
       "    <tr>\n",
       "      <th>3937</th>\n",
       "      <td>muffins</td>\n",
       "      <td>[ Oh., Guess... I'm back..., And none's here.....</td>\n",
       "    </tr>\n",
       "  </tbody>\n",
       "</table>\n",
       "</div>"
      ],
      "text/plain": [
       "          User                                              Chats\n",
       "3937  muffins   [ Oh., Guess... I'm back..., And none's here....."
      ]
     },
     "execution_count": 20,
     "metadata": {},
     "output_type": "execute_result"
    }
   ],
   "source": [
    "user_chat_df[user_chat_df['User'] == 'muffins ']"
   ]
  },
  {
   "cell_type": "code",
   "execution_count": 8,
   "id": "80541d58",
   "metadata": {},
   "outputs": [],
   "source": []
  },
  {
   "cell_type": "code",
   "execution_count": 10,
   "id": "34c92081",
   "metadata": {},
   "outputs": [],
   "source": []
  },
  {
   "cell_type": "code",
   "execution_count": null,
   "id": "95857ddb",
   "metadata": {},
   "outputs": [],
   "source": []
  }
 ],
 "metadata": {
  "kernelspec": {
   "display_name": "Python [conda env:.conda-ece229] *",
   "language": "python",
   "name": "conda-env-.conda-ece229-py"
  },
  "language_info": {
   "codemirror_mode": {
    "name": "ipython",
    "version": 3
   },
   "file_extension": ".py",
   "mimetype": "text/x-python",
   "name": "python",
   "nbconvert_exporter": "python",
   "pygments_lexer": "ipython3",
   "version": "3.7.9"
  }
 },
 "nbformat": 4,
 "nbformat_minor": 5
}
