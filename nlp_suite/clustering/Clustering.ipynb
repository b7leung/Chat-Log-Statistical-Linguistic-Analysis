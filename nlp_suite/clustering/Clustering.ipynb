{
 "cells": [
  {
   "cell_type": "code",
   "execution_count": 24,
   "id": "e47139ca",
   "metadata": {},
   "outputs": [],
   "source": [
    "import pandas as pd\n",
    "import numpy as np\n",
    "import pickle\n",
    "import plotly.graph_objs as go\n",
    "import ipywidgets as widgets\n",
    "from IPython.display import display\n",
    "\n",
    "from utils import plot_3d_clusters, classify_text"
   ]
  },
  {
   "cell_type": "code",
   "execution_count": 2,
   "id": "7b1da968",
   "metadata": {},
   "outputs": [],
   "source": [
    "%load_ext autoreload\n",
    "%autoreload 2"
   ]
  },
  {
   "cell_type": "code",
   "execution_count": 3,
   "id": "fd90bc60",
   "metadata": {},
   "outputs": [],
   "source": [
    "pkl_data = pickle.load(open('cluster_data.pkl', 'rb'))\n",
    "clusters, labels, pca = pkl_data['clusters'], pkl_data['labels'], pkl_data['pca']\n",
    "pkl_data = pickle.load(open('encoded_data.pkl', 'rb'))\n",
    "df, vectorizer, encodings = pkl_data['dataframe'], pkl_data['vectorizer'], pkl_data['encodings']"
   ]
  },
  {
   "cell_type": "code",
   "execution_count": 4,
   "id": "9f562b6c",
   "metadata": {},
   "outputs": [],
   "source": [
    "fig = plot_3d_clusters(pca, labels, max_points=50000)"
   ]
  },
  {
   "cell_type": "code",
   "execution_count": 5,
   "id": "08312751",
   "metadata": {},
   "outputs": [],
   "source": [
    "cluster_dd = widgets.Dropdown(\n",
    "                options=[(f'Cluster {i}', i) for i in range(max(labels)+1)],\n",
    "                value=0,\n",
    "                description='Cluster:',\n",
    "            )\n",
    "\n",
    "def on_click(trace, points, state):\n",
    "    cluster_dd.value = int(trace.marker.color[points.point_inds[0]])\n",
    "    \n",
    "fig.data[0].on_click(on_click)\n"
   ]
  },
  {
   "cell_type": "code",
   "execution_count": 6,
   "id": "9a77a392",
   "metadata": {},
   "outputs": [
    {
     "data": {
      "application/vnd.jupyter.widget-view+json": {
       "model_id": "2a86b2d82a18490888f8382aa15c16ac",
       "version_major": 2,
       "version_minor": 0
      },
      "text/plain": [
       "FigureWidget({\n",
       "    'data': [{'hoverinfo': 'text',\n",
       "              'marker': {'color': array([5., 5., 1., ..., 2.…"
      ]
     },
     "metadata": {},
     "output_type": "display_data"
    }
   ],
   "source": [
    "fig"
   ]
  },
  {
   "cell_type": "code",
   "execution_count": 7,
   "id": "7e5350f2",
   "metadata": {},
   "outputs": [
    {
     "data": {
      "application/vnd.jupyter.widget-view+json": {
       "model_id": "665947dc395440edaacf5e97d631e750",
       "version_major": 2,
       "version_minor": 0
      },
      "text/plain": [
       "Dropdown(description='Cluster:', options=(('Cluster 0', 0), ('Cluster 1', 1), ('Cluster 2', 2), ('Cluster 3', …"
      ]
     },
     "metadata": {},
     "output_type": "display_data"
    }
   ],
   "source": [
    "display(cluster_dd)"
   ]
  },
  {
   "cell_type": "code",
   "execution_count": 47,
   "id": "78a39ef3",
   "metadata": {},
   "outputs": [
    {
     "data": {
      "text/plain": [
       "array([1, 5, 2])"
      ]
     },
     "execution_count": 47,
     "metadata": {},
     "output_type": "execute_result"
    }
   ],
   "source": [
    "#Example of how to classify new text\n",
    "classify_text(vectorizer, clusters, ['Ok I am not sure what is going on', \n",
    "                                     'Over the course of a match, champions gain levels by accruing experience points (XP) through killing enemies',\n",
    "                                     'what are you guys talking about️'\n",
    "                                    ])"
   ]
  },
  {
   "cell_type": "code",
   "execution_count": 44,
   "id": "0311cbad",
   "metadata": {},
   "outputs": [
    {
     "data": {
      "text/html": [
       "<div>\n",
       "<style scoped>\n",
       "    .dataframe tbody tr th:only-of-type {\n",
       "        vertical-align: middle;\n",
       "    }\n",
       "\n",
       "    .dataframe tbody tr th {\n",
       "        vertical-align: top;\n",
       "    }\n",
       "\n",
       "    .dataframe thead th {\n",
       "        text-align: right;\n",
       "    }\n",
       "</style>\n",
       "<table border=\"1\" class=\"dataframe\">\n",
       "  <thead>\n",
       "    <tr style=\"text-align: right;\">\n",
       "      <th></th>\n",
       "      <th>User</th>\n",
       "      <th>Chats</th>\n",
       "    </tr>\n",
       "  </thead>\n",
       "  <tbody>\n",
       "    <tr>\n",
       "      <th>39</th>\n",
       "      <td>Veki</td>\n",
       "      <td>nice beer belly @kiirby its still there i you...</td>\n",
       "    </tr>\n",
       "    <tr>\n",
       "      <th>62</th>\n",
       "      <td>9</td>\n",
       "      <td>22 now PM 30pm here 33 AM? oh how I crash at l...</td>\n",
       "    </tr>\n",
       "    <tr>\n",
       "      <th>97</th>\n",
       "      <td>PSA</td>\n",
       "      <td>yo don't forget to pay your health insurance ...</td>\n",
       "    </tr>\n",
       "    <tr>\n",
       "      <th>147</th>\n",
       "      <td>Bot</td>\n",
       "      <td>1 I have no favourites. I have no emotions. I...</td>\n",
       "    </tr>\n",
       "    <tr>\n",
       "      <th>153</th>\n",
       "      <td>TR3NCH</td>\n",
       "      <td>Howdy Go to sleep fam its 1 pm here lel Nah B...</td>\n",
       "    </tr>\n",
       "    <tr>\n",
       "      <th>...</th>\n",
       "      <td>...</td>\n",
       "      <td>...</td>\n",
       "    </tr>\n",
       "    <tr>\n",
       "      <th>78395</th>\n",
       "      <td>DucKiwi</td>\n",
       "      <td>should i watch kakushigoto kakushigoto i thin...</td>\n",
       "    </tr>\n",
       "    <tr>\n",
       "      <th>78398</th>\n",
       "      <td>irobwhiteboys</td>\n",
       "      <td>what are you guys talking about️ WHY IS MY NA...</td>\n",
       "    </tr>\n",
       "    <tr>\n",
       "      <th>78404</th>\n",
       "      <td>Lilrari</td>\n",
       "      <td>HXHPokemo, pokemon is for lil baby unlike hxh...</td>\n",
       "    </tr>\n",
       "    <tr>\n",
       "      <th>78411</th>\n",
       "      <td>Multi nash player</td>\n",
       "      <td>hey what about Saitama also have you heard wh...</td>\n",
       "    </tr>\n",
       "    <tr>\n",
       "      <th>78413</th>\n",
       "      <td>sised</td>\n",
       "      <td>rem with 2 eyes visible totally illegal my fa...</td>\n",
       "    </tr>\n",
       "  </tbody>\n",
       "</table>\n",
       "<p>16147 rows × 2 columns</p>\n",
       "</div>"
      ],
      "text/plain": [
       "                    User                                              Chats\n",
       "39                  Veki   nice beer belly @kiirby its still there i you...\n",
       "62                     9  22 now PM 30pm here 33 AM? oh how I crash at l...\n",
       "97                   PSA   yo don't forget to pay your health insurance ...\n",
       "147                  Bot   1 I have no favourites. I have no emotions. I...\n",
       "153               TR3NCH   Howdy Go to sleep fam its 1 pm here lel Nah B...\n",
       "...                  ...                                                ...\n",
       "78395            DucKiwi   should i watch kakushigoto kakushigoto i thin...\n",
       "78398      irobwhiteboys   what are you guys talking about️ WHY IS MY NA...\n",
       "78404            Lilrari   HXHPokemo, pokemon is for lil baby unlike hxh...\n",
       "78411  Multi nash player   hey what about Saitama also have you heard wh...\n",
       "78413              sised   rem with 2 eyes visible totally illegal my fa...\n",
       "\n",
       "[16147 rows x 2 columns]"
      ]
     },
     "execution_count": 44,
     "metadata": {},
     "output_type": "execute_result"
    }
   ],
   "source": [
    "df.loc[labels == cluster_dd.value]"
   ]
  },
  {
   "cell_type": "code",
   "execution_count": 45,
   "id": "8b5c5419",
   "metadata": {},
   "outputs": [
    {
     "data": {
      "text/plain": [
       "16147"
      ]
     },
     "execution_count": 45,
     "metadata": {},
     "output_type": "execute_result"
    }
   ],
   "source": []
  }
 ],
 "metadata": {
  "kernelspec": {
   "display_name": "Python37",
   "language": "python",
   "name": "python37"
  },
  "language_info": {
   "codemirror_mode": {
    "name": "ipython",
    "version": 3
   },
   "file_extension": ".py",
   "mimetype": "text/x-python",
   "name": "python",
   "nbconvert_exporter": "python",
   "pygments_lexer": "ipython3",
   "version": "3.7.9"
  }
 },
 "nbformat": 4,
 "nbformat_minor": 5
}
